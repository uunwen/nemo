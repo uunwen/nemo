{
 "cells": [
  {
   "cell_type": "code",
   "execution_count": null,
   "id": "4fdf046e-9faf-4cbb-ae4e-06b1f24362a5",
   "metadata": {
    "id": "4fdf046e-9faf-4cbb-ae4e-06b1f24362a5",
    "outputId": "761e1b69-2acd-4acc-f3a1-fd78f1750932"
   },
   "outputs": [
    {
     "name": "stdout",
     "output_type": "stream",
     "text": [
      "Requirement already satisfied: pandas in c:\\users\\yun wen\\anaconda3\\lib\\site-packages (1.5.3)Note: you may need to restart the kernel to use updated packages.\n",
      "\n",
      "Requirement already satisfied: python-dateutil>=2.8.1 in c:\\users\\yun wen\\anaconda3\\lib\\site-packages (from pandas) (2.8.2)\n",
      "Requirement already satisfied: pytz>=2020.1 in c:\\users\\yun wen\\anaconda3\\lib\\site-packages (from pandas) (2023.3.post1)\n",
      "Requirement already satisfied: numpy>=1.21.0 in c:\\users\\yun wen\\anaconda3\\lib\\site-packages (from pandas) (1.26.4)\n",
      "Requirement already satisfied: six>=1.5 in c:\\users\\yun wen\\anaconda3\\lib\\site-packages (from python-dateutil>=2.8.1->pandas) (1.16.0)\n"
     ]
    }
   ],
   "source": [
    "# # download pandas\n",
    "# pip install pandas"
   ]
  },
  {
   "cell_type": "code",
   "execution_count": null,
   "id": "a69f827a-b98b-4a8b-be91-1534549a7ea5",
   "metadata": {
    "id": "a69f827a-b98b-4a8b-be91-1534549a7ea5",
    "outputId": "29fbc35a-9e41-4518-c03f-5eed78a416ad"
   },
   "outputs": [
    {
     "name": "stdout",
     "output_type": "stream",
     "text": [
      "Requirement already satisfied: xlrd in c:\\users\\yun wen\\anaconda3\\lib\\site-packages (2.0.1)\n",
      "Note: you may need to restart the kernel to use updated packages.\n"
     ]
    }
   ],
   "source": [
    "# # download this to read excel dataset\n",
    "# pip install xlrd"
   ]
  },
  {
   "cell_type": "code",
   "execution_count": null,
   "id": "1bded643-e49e-49d7-95a5-6b015072e736",
   "metadata": {
    "id": "1bded643-e49e-49d7-95a5-6b015072e736",
    "outputId": "29faf1e9-01a8-48b1-ead1-22e8abe39703"
   },
   "outputs": [
    {
     "name": "stdout",
     "output_type": "stream",
     "text": [
      "Collecting spacy\n",
      "  Downloading spacy-3.8.4-cp311-cp311-win_amd64.whl.metadata (27 kB)\n",
      "Collecting spacy-legacy<3.1.0,>=3.0.11 (from spacy)\n",
      "  Downloading spacy_legacy-3.0.12-py2.py3-none-any.whl.metadata (2.8 kB)\n",
      "Collecting spacy-loggers<2.0.0,>=1.0.0 (from spacy)\n",
      "  Downloading spacy_loggers-1.0.5-py3-none-any.whl.metadata (23 kB)\n",
      "Collecting murmurhash<1.1.0,>=0.28.0 (from spacy)\n",
      "  Downloading murmurhash-1.0.12-cp311-cp311-win_amd64.whl.metadata (2.2 kB)\n",
      "Collecting cymem<2.1.0,>=2.0.2 (from spacy)\n",
      "  Downloading cymem-2.0.11-cp311-cp311-win_amd64.whl.metadata (8.8 kB)\n",
      "Collecting preshed<3.1.0,>=3.0.2 (from spacy)\n",
      "  Downloading preshed-3.0.9-cp311-cp311-win_amd64.whl.metadata (2.2 kB)\n",
      "Collecting thinc<8.4.0,>=8.3.4 (from spacy)\n",
      "  Downloading thinc-8.3.4-cp311-cp311-win_amd64.whl.metadata (15 kB)\n",
      "Collecting wasabi<1.2.0,>=0.9.1 (from spacy)\n",
      "  Downloading wasabi-1.1.3-py3-none-any.whl.metadata (28 kB)\n",
      "Collecting srsly<3.0.0,>=2.4.3 (from spacy)\n",
      "  Downloading srsly-2.5.1-cp311-cp311-win_amd64.whl.metadata (20 kB)\n",
      "Collecting catalogue<2.1.0,>=2.0.6 (from spacy)\n",
      "  Downloading catalogue-2.0.10-py3-none-any.whl.metadata (14 kB)\n",
      "Collecting weasel<0.5.0,>=0.1.0 (from spacy)\n",
      "  Downloading weasel-0.4.1-py3-none-any.whl.metadata (4.6 kB)\n",
      "Collecting typer<1.0.0,>=0.3.0 (from spacy)\n",
      "  Downloading typer-0.15.1-py3-none-any.whl.metadata (15 kB)\n",
      "Requirement already satisfied: tqdm<5.0.0,>=4.38.0 in c:\\users\\yun wen\\anaconda3\\lib\\site-packages (from spacy) (4.65.0)\n",
      "Requirement already satisfied: numpy>=1.19.0 in c:\\users\\yun wen\\anaconda3\\lib\\site-packages (from spacy) (1.26.4)\n",
      "Requirement already satisfied: requests<3.0.0,>=2.13.0 in c:\\users\\yun wen\\anaconda3\\lib\\site-packages (from spacy) (2.31.0)\n",
      "Requirement already satisfied: pydantic!=1.8,!=1.8.1,<3.0.0,>=1.7.4 in c:\\users\\yun wen\\anaconda3\\lib\\site-packages (from spacy) (1.10.12)\n",
      "Requirement already satisfied: jinja2 in c:\\users\\yun wen\\anaconda3\\lib\\site-packages (from spacy) (3.1.3)\n",
      "Requirement already satisfied: setuptools in c:\\users\\yun wen\\anaconda3\\lib\\site-packages (from spacy) (68.2.2)\n",
      "Requirement already satisfied: packaging>=20.0 in c:\\users\\yun wen\\anaconda3\\lib\\site-packages (from spacy) (23.1)\n",
      "Collecting langcodes<4.0.0,>=3.2.0 (from spacy)\n",
      "  Downloading langcodes-3.5.0-py3-none-any.whl.metadata (29 kB)\n",
      "Collecting language-data>=1.2 (from langcodes<4.0.0,>=3.2.0->spacy)\n",
      "  Downloading language_data-1.3.0-py3-none-any.whl.metadata (4.3 kB)\n",
      "Requirement already satisfied: typing-extensions>=4.2.0 in c:\\users\\yun wen\\anaconda3\\lib\\site-packages (from pydantic!=1.8,!=1.8.1,<3.0.0,>=1.7.4->spacy) (4.9.0)\n",
      "Requirement already satisfied: charset-normalizer<4,>=2 in c:\\users\\yun wen\\anaconda3\\lib\\site-packages (from requests<3.0.0,>=2.13.0->spacy) (2.0.4)\n",
      "Requirement already satisfied: idna<4,>=2.5 in c:\\users\\yun wen\\anaconda3\\lib\\site-packages (from requests<3.0.0,>=2.13.0->spacy) (3.4)\n",
      "Requirement already satisfied: urllib3<3,>=1.21.1 in c:\\users\\yun wen\\anaconda3\\lib\\site-packages (from requests<3.0.0,>=2.13.0->spacy) (2.0.7)\n",
      "Requirement already satisfied: certifi>=2017.4.17 in c:\\users\\yun wen\\anaconda3\\lib\\site-packages (from requests<3.0.0,>=2.13.0->spacy) (2024.2.2)\n",
      "Collecting blis<1.3.0,>=1.2.0 (from thinc<8.4.0,>=8.3.4->spacy)\n",
      "  Downloading blis-1.2.0-cp311-cp311-win_amd64.whl.metadata (7.9 kB)\n",
      "Collecting confection<1.0.0,>=0.0.1 (from thinc<8.4.0,>=8.3.4->spacy)\n",
      "  Downloading confection-0.1.5-py3-none-any.whl.metadata (19 kB)\n",
      "Requirement already satisfied: colorama in c:\\users\\yun wen\\anaconda3\\lib\\site-packages (from tqdm<5.0.0,>=4.38.0->spacy) (0.4.6)\n",
      "Requirement already satisfied: click>=8.0.0 in c:\\users\\yun wen\\anaconda3\\lib\\site-packages (from typer<1.0.0,>=0.3.0->spacy) (8.1.7)\n",
      "Collecting shellingham>=1.3.0 (from typer<1.0.0,>=0.3.0->spacy)\n",
      "  Downloading shellingham-1.5.4-py2.py3-none-any.whl.metadata (3.5 kB)\n",
      "Requirement already satisfied: rich>=10.11.0 in c:\\users\\yun wen\\anaconda3\\lib\\site-packages (from typer<1.0.0,>=0.3.0->spacy) (13.3.5)\n",
      "Collecting cloudpathlib<1.0.0,>=0.7.0 (from weasel<0.5.0,>=0.1.0->spacy)\n",
      "  Downloading cloudpathlib-0.20.0-py3-none-any.whl.metadata (14 kB)\n",
      "Requirement already satisfied: smart-open<8.0.0,>=5.2.1 in c:\\users\\yun wen\\anaconda3\\lib\\site-packages (from weasel<0.5.0,>=0.1.0->spacy) (5.2.1)\n",
      "Requirement already satisfied: MarkupSafe>=2.0 in c:\\users\\yun wen\\anaconda3\\lib\\site-packages (from jinja2->spacy) (2.1.3)\n",
      "Collecting marisa-trie>=1.1.0 (from language-data>=1.2->langcodes<4.0.0,>=3.2.0->spacy)\n",
      "  Downloading marisa_trie-1.2.1-cp311-cp311-win_amd64.whl.metadata (9.3 kB)\n",
      "Requirement already satisfied: markdown-it-py<3.0.0,>=2.2.0 in c:\\users\\yun wen\\anaconda3\\lib\\site-packages (from rich>=10.11.0->typer<1.0.0,>=0.3.0->spacy) (2.2.0)\n",
      "Requirement already satisfied: pygments<3.0.0,>=2.13.0 in c:\\users\\yun wen\\anaconda3\\lib\\site-packages (from rich>=10.11.0->typer<1.0.0,>=0.3.0->spacy) (2.15.1)\n",
      "Requirement already satisfied: mdurl~=0.1 in c:\\users\\yun wen\\anaconda3\\lib\\site-packages (from markdown-it-py<3.0.0,>=2.2.0->rich>=10.11.0->typer<1.0.0,>=0.3.0->spacy) (0.1.0)\n",
      "Downloading spacy-3.8.4-cp311-cp311-win_amd64.whl (12.2 MB)\n",
      "   ---------------------------------------- 0.0/12.2 MB ? eta -:--:--\n",
      "    --------------------------------------- 0.2/12.2 MB 5.1 MB/s eta 0:00:03\n",
      "   -- ------------------------------------- 0.6/12.2 MB 7.7 MB/s eta 0:00:02\n",
      "   ---- ----------------------------------- 1.4/12.2 MB 11.5 MB/s eta 0:00:01\n",
      "   ------- -------------------------------- 2.3/12.2 MB 13.3 MB/s eta 0:00:01\n",
      "   ------------ --------------------------- 3.7/12.2 MB 17.0 MB/s eta 0:00:01\n",
      "   ----------------- ---------------------- 5.4/12.2 MB 21.7 MB/s eta 0:00:01\n",
      "   ------------------------ --------------- 7.5/12.2 MB 23.8 MB/s eta 0:00:01\n",
      "   ------------------------------- -------- 9.7/12.2 MB 28.3 MB/s eta 0:00:01\n",
      "   ---------------------------------------  12.2/12.2 MB 43.7 MB/s eta 0:00:01\n",
      "   ---------------------------------------  12.2/12.2 MB 43.7 MB/s eta 0:00:01\n",
      "   ---------------------------------------- 12.2/12.2 MB 34.5 MB/s eta 0:00:00\n",
      "Downloading catalogue-2.0.10-py3-none-any.whl (17 kB)\n",
      "Downloading cymem-2.0.11-cp311-cp311-win_amd64.whl (39 kB)\n",
      "Downloading langcodes-3.5.0-py3-none-any.whl (182 kB)\n",
      "   ---------------------------------------- 0.0/183.0 kB ? eta -:--:--\n",
      "   --------------------------------------- 183.0/183.0 kB 11.5 MB/s eta 0:00:00\n",
      "Downloading murmurhash-1.0.12-cp311-cp311-win_amd64.whl (25 kB)\n",
      "Downloading preshed-3.0.9-cp311-cp311-win_amd64.whl (122 kB)\n",
      "   ---------------------------------------- 0.0/122.3 kB ? eta -:--:--\n",
      "   ---------------------------------------- 122.3/122.3 kB 7.0 MB/s eta 0:00:00\n",
      "Downloading spacy_legacy-3.0.12-py2.py3-none-any.whl (29 kB)\n",
      "Downloading spacy_loggers-1.0.5-py3-none-any.whl (22 kB)\n",
      "Downloading srsly-2.5.1-cp311-cp311-win_amd64.whl (632 kB)\n",
      "   ---------------------------------------- 0.0/632.6 kB ? eta -:--:--\n",
      "   --------------------------------------- 632.6/632.6 kB 20.1 MB/s eta 0:00:00\n",
      "Downloading thinc-8.3.4-cp311-cp311-win_amd64.whl (1.5 MB)\n",
      "   ---------------------------------------- 0.0/1.5 MB ? eta -:--:--\n",
      "   ---------------------------------------  1.5/1.5 MB 47.6 MB/s eta 0:00:01\n",
      "   ---------------------------------------- 1.5/1.5 MB 31.5 MB/s eta 0:00:00\n",
      "Downloading typer-0.15.1-py3-none-any.whl (44 kB)\n",
      "   ---------------------------------------- 0.0/44.9 kB ? eta -:--:--\n",
      "   ---------------------------------------- 44.9/44.9 kB 2.2 MB/s eta 0:00:00\n",
      "Downloading wasabi-1.1.3-py3-none-any.whl (27 kB)\n",
      "Downloading weasel-0.4.1-py3-none-any.whl (50 kB)\n",
      "   ---------------------------------------- 0.0/50.3 kB ? eta -:--:--\n",
      "   ---------------------------------------- 50.3/50.3 kB 2.7 MB/s eta 0:00:00\n",
      "Downloading blis-1.2.0-cp311-cp311-win_amd64.whl (6.2 MB)\n",
      "   ---------------------------------------- 0.0/6.2 MB ? eta -:--:--\n",
      "   ----------------- ---------------------- 2.7/6.2 MB 57.1 MB/s eta 0:00:01\n",
      "   ----------------------------------- ---- 5.6/6.2 MB 59.5 MB/s eta 0:00:01\n",
      "   ---------------------------------------- 6.2/6.2 MB 44.1 MB/s eta 0:00:00\n",
      "Downloading cloudpathlib-0.20.0-py3-none-any.whl (52 kB)\n",
      "   ---------------------------------------- 0.0/52.5 kB ? eta -:--:--\n",
      "   ---------------------------------------- 52.5/52.5 kB 2.6 MB/s eta 0:00:00\n",
      "Downloading confection-0.1.5-py3-none-any.whl (35 kB)\n",
      "Downloading language_data-1.3.0-py3-none-any.whl (5.4 MB)\n",
      "   ---------------------------------------- 0.0/5.4 MB ? eta -:--:--\n",
      "   ---------------- ----------------------- 2.3/5.4 MB 70.1 MB/s eta 0:00:01\n",
      "   ---------------------------------------  5.3/5.4 MB 68.0 MB/s eta 0:00:01\n",
      "   ---------------------------------------- 5.4/5.4 MB 48.9 MB/s eta 0:00:00\n",
      "Downloading shellingham-1.5.4-py2.py3-none-any.whl (9.8 kB)\n",
      "Downloading marisa_trie-1.2.1-cp311-cp311-win_amd64.whl (152 kB)\n",
      "   ---------------------------------------- 0.0/152.0 kB ? eta -:--:--\n",
      "   ---------------------------------------- 152.0/152.0 kB 8.9 MB/s eta 0:00:00\n",
      "Installing collected packages: cymem, wasabi, spacy-loggers, spacy-legacy, shellingham, murmurhash, marisa-trie, cloudpathlib, catalogue, blis, srsly, preshed, language-data, typer, langcodes, confection, weasel, thinc, spacy\n",
      "Successfully installed blis-1.2.0 catalogue-2.0.10 cloudpathlib-0.20.0 confection-0.1.5 cymem-2.0.11 langcodes-3.5.0 language-data-1.3.0 marisa-trie-1.2.1 murmurhash-1.0.12 preshed-3.0.9 shellingham-1.5.4 spacy-3.8.4 spacy-legacy-3.0.12 spacy-loggers-1.0.5 srsly-2.5.1 thinc-8.3.4 typer-0.15.1 wasabi-1.1.3 weasel-0.4.1\n",
      "Note: you may need to restart the kernel to use updated packages.\n"
     ]
    }
   ],
   "source": [
    "# pip install spacy"
   ]
  },
  {
   "cell_type": "code",
   "execution_count": null,
   "id": "720710cc-03bc-49e2-81cf-8cb1930d32f0",
   "metadata": {
    "id": "720710cc-03bc-49e2-81cf-8cb1930d32f0",
    "outputId": "717856d0-3d76-46b5-d4cf-b8f77acc9689"
   },
   "outputs": [
    {
     "name": "stdout",
     "output_type": "stream",
     "text": [
      "Requirement already satisfied: spacy in c:\\users\\yun wen\\anaconda3\\lib\\site-packages (3.8.4)\n",
      "Requirement already satisfied: textblob in c:\\users\\yun wen\\anaconda3\\lib\\site-packages (0.19.0)\n",
      "Requirement already satisfied: ipywidgets in c:\\users\\yun wen\\anaconda3\\lib\\site-packages (7.6.5)\n",
      "Requirement already satisfied: spacy-legacy<3.1.0,>=3.0.11 in c:\\users\\yun wen\\anaconda3\\lib\\site-packages (from spacy) (3.0.12)\n",
      "Requirement already satisfied: spacy-loggers<2.0.0,>=1.0.0 in c:\\users\\yun wen\\anaconda3\\lib\\site-packages (from spacy) (1.0.5)\n",
      "Requirement already satisfied: murmurhash<1.1.0,>=0.28.0 in c:\\users\\yun wen\\anaconda3\\lib\\site-packages (from spacy) (1.0.12)\n",
      "Requirement already satisfied: cymem<2.1.0,>=2.0.2 in c:\\users\\yun wen\\anaconda3\\lib\\site-packages (from spacy) (2.0.11)\n",
      "Requirement already satisfied: preshed<3.1.0,>=3.0.2 in c:\\users\\yun wen\\anaconda3\\lib\\site-packages (from spacy) (3.0.9)\n",
      "Requirement already satisfied: thinc<8.4.0,>=8.3.4 in c:\\users\\yun wen\\anaconda3\\lib\\site-packages (from spacy) (8.3.4)\n",
      "Requirement already satisfied: wasabi<1.2.0,>=0.9.1 in c:\\users\\yun wen\\anaconda3\\lib\\site-packages (from spacy) (1.1.3)\n",
      "Requirement already satisfied: srsly<3.0.0,>=2.4.3 in c:\\users\\yun wen\\anaconda3\\lib\\site-packages (from spacy) (2.5.1)\n",
      "Requirement already satisfied: catalogue<2.1.0,>=2.0.6 in c:\\users\\yun wen\\anaconda3\\lib\\site-packages (from spacy) (2.0.10)\n",
      "Requirement already satisfied: weasel<0.5.0,>=0.1.0 in c:\\users\\yun wen\\anaconda3\\lib\\site-packages (from spacy) (0.4.1)\n",
      "Requirement already satisfied: typer<1.0.0,>=0.3.0 in c:\\users\\yun wen\\anaconda3\\lib\\site-packages (from spacy) (0.15.1)\n",
      "Requirement already satisfied: tqdm<5.0.0,>=4.38.0 in c:\\users\\yun wen\\anaconda3\\lib\\site-packages (from spacy) (4.65.0)\n",
      "Requirement already satisfied: numpy>=1.19.0 in c:\\users\\yun wen\\anaconda3\\lib\\site-packages (from spacy) (1.26.4)\n",
      "Requirement already satisfied: requests<3.0.0,>=2.13.0 in c:\\users\\yun wen\\anaconda3\\lib\\site-packages (from spacy) (2.31.0)\n",
      "Requirement already satisfied: pydantic!=1.8,!=1.8.1,<3.0.0,>=1.7.4 in c:\\users\\yun wen\\anaconda3\\lib\\site-packages (from spacy) (1.10.12)\n",
      "Requirement already satisfied: jinja2 in c:\\users\\yun wen\\anaconda3\\lib\\site-packages (from spacy) (3.1.3)\n",
      "Requirement already satisfied: setuptools in c:\\users\\yun wen\\anaconda3\\lib\\site-packages (from spacy) (68.2.2)\n",
      "Requirement already satisfied: packaging>=20.0 in c:\\users\\yun wen\\anaconda3\\lib\\site-packages (from spacy) (23.1)\n",
      "Requirement already satisfied: langcodes<4.0.0,>=3.2.0 in c:\\users\\yun wen\\anaconda3\\lib\\site-packages (from spacy) (3.5.0)\n",
      "Requirement already satisfied: nltk>=3.9 in c:\\users\\yun wen\\anaconda3\\lib\\site-packages (from textblob) (3.9.1)\n",
      "Requirement already satisfied: ipykernel>=4.5.1 in c:\\users\\yun wen\\anaconda3\\lib\\site-packages (from ipywidgets) (6.23.1)\n",
      "Requirement already satisfied: ipython-genutils~=0.2.0 in c:\\users\\yun wen\\anaconda3\\lib\\site-packages (from ipywidgets) (0.2.0)\n",
      "Requirement already satisfied: traitlets>=4.3.1 in c:\\users\\yun wen\\anaconda3\\lib\\site-packages (from ipywidgets) (5.7.1)\n",
      "Requirement already satisfied: nbformat>=4.2.0 in c:\\users\\yun wen\\anaconda3\\lib\\site-packages (from ipywidgets) (5.9.2)\n",
      "Requirement already satisfied: widgetsnbextension~=3.5.0 in c:\\users\\yun wen\\anaconda3\\lib\\site-packages (from ipywidgets) (3.5.2)\n",
      "Requirement already satisfied: ipython>=4.0.0 in c:\\users\\yun wen\\anaconda3\\lib\\site-packages (from ipywidgets) (8.20.0)\n",
      "Requirement already satisfied: jupyterlab-widgets>=1.0.0 in c:\\users\\yun wen\\anaconda3\\lib\\site-packages (from ipywidgets) (3.0.9)\n",
      "Requirement already satisfied: comm>=0.1.1 in c:\\users\\yun wen\\anaconda3\\lib\\site-packages (from ipykernel>=4.5.1->ipywidgets) (0.1.2)\n",
      "Requirement already satisfied: debugpy>=1.6.5 in c:\\users\\yun wen\\anaconda3\\lib\\site-packages (from ipykernel>=4.5.1->ipywidgets) (1.6.7)\n",
      "Requirement already satisfied: jupyter-client>=6.1.12 in c:\\users\\yun wen\\anaconda3\\lib\\site-packages (from ipykernel>=4.5.1->ipywidgets) (8.6.0)\n",
      "Requirement already satisfied: jupyter-core!=5.0.*,>=4.12 in c:\\users\\yun wen\\anaconda3\\lib\\site-packages (from ipykernel>=4.5.1->ipywidgets) (5.5.0)\n",
      "Requirement already satisfied: matplotlib-inline>=0.1 in c:\\users\\yun wen\\anaconda3\\lib\\site-packages (from ipykernel>=4.5.1->ipywidgets) (0.1.6)\n",
      "Requirement already satisfied: nest-asyncio in c:\\users\\yun wen\\anaconda3\\lib\\site-packages (from ipykernel>=4.5.1->ipywidgets) (1.6.0)\n",
      "Requirement already satisfied: psutil in c:\\users\\yun wen\\anaconda3\\lib\\site-packages (from ipykernel>=4.5.1->ipywidgets) (5.9.0)\n",
      "Requirement already satisfied: pyzmq>=20 in c:\\users\\yun wen\\anaconda3\\lib\\site-packages (from ipykernel>=4.5.1->ipywidgets) (25.1.2)\n",
      "Requirement already satisfied: tornado>=6.1 in c:\\users\\yun wen\\anaconda3\\lib\\site-packages (from ipykernel>=4.5.1->ipywidgets) (6.3.3)\n",
      "Requirement already satisfied: decorator in c:\\users\\yun wen\\anaconda3\\lib\\site-packages (from ipython>=4.0.0->ipywidgets) (5.1.1)\n",
      "Requirement already satisfied: jedi>=0.16 in c:\\users\\yun wen\\anaconda3\\lib\\site-packages (from ipython>=4.0.0->ipywidgets) (0.18.1)\n",
      "Requirement already satisfied: prompt-toolkit<3.1.0,>=3.0.41 in c:\\users\\yun wen\\anaconda3\\lib\\site-packages (from ipython>=4.0.0->ipywidgets) (3.0.43)\n",
      "Requirement already satisfied: pygments>=2.4.0 in c:\\users\\yun wen\\anaconda3\\lib\\site-packages (from ipython>=4.0.0->ipywidgets) (2.15.1)\n",
      "Requirement already satisfied: stack-data in c:\\users\\yun wen\\anaconda3\\lib\\site-packages (from ipython>=4.0.0->ipywidgets) (0.2.0)\n",
      "Requirement already satisfied: colorama in c:\\users\\yun wen\\anaconda3\\lib\\site-packages (from ipython>=4.0.0->ipywidgets) (0.4.6)\n",
      "Requirement already satisfied: language-data>=1.2 in c:\\users\\yun wen\\anaconda3\\lib\\site-packages (from langcodes<4.0.0,>=3.2.0->spacy) (1.3.0)\n",
      "Requirement already satisfied: fastjsonschema in c:\\users\\yun wen\\anaconda3\\lib\\site-packages (from nbformat>=4.2.0->ipywidgets) (2.16.2)\n",
      "Requirement already satisfied: jsonschema>=2.6 in c:\\users\\yun wen\\anaconda3\\lib\\site-packages (from nbformat>=4.2.0->ipywidgets) (4.19.2)\n",
      "Requirement already satisfied: click in c:\\users\\yun wen\\anaconda3\\lib\\site-packages (from nltk>=3.9->textblob) (8.1.7)\n",
      "Requirement already satisfied: joblib in c:\\users\\yun wen\\anaconda3\\lib\\site-packages (from nltk>=3.9->textblob) (1.2.0)\n",
      "Requirement already satisfied: regex>=2021.8.3 in c:\\users\\yun wen\\anaconda3\\lib\\site-packages (from nltk>=3.9->textblob) (2023.10.3)\n",
      "Requirement already satisfied: typing-extensions>=4.2.0 in c:\\users\\yun wen\\anaconda3\\lib\\site-packages (from pydantic!=1.8,!=1.8.1,<3.0.0,>=1.7.4->spacy) (4.9.0)\n",
      "Requirement already satisfied: charset-normalizer<4,>=2 in c:\\users\\yun wen\\anaconda3\\lib\\site-packages (from requests<3.0.0,>=2.13.0->spacy) (2.0.4)\n",
      "Requirement already satisfied: idna<4,>=2.5 in c:\\users\\yun wen\\anaconda3\\lib\\site-packages (from requests<3.0.0,>=2.13.0->spacy) (3.4)\n",
      "Requirement already satisfied: urllib3<3,>=1.21.1 in c:\\users\\yun wen\\anaconda3\\lib\\site-packages (from requests<3.0.0,>=2.13.0->spacy) (2.0.7)\n",
      "Requirement already satisfied: certifi>=2017.4.17 in c:\\users\\yun wen\\anaconda3\\lib\\site-packages (from requests<3.0.0,>=2.13.0->spacy) (2024.2.2)\n",
      "Requirement already satisfied: blis<1.3.0,>=1.2.0 in c:\\users\\yun wen\\anaconda3\\lib\\site-packages (from thinc<8.4.0,>=8.3.4->spacy) (1.2.0)\n",
      "Requirement already satisfied: confection<1.0.0,>=0.0.1 in c:\\users\\yun wen\\anaconda3\\lib\\site-packages (from thinc<8.4.0,>=8.3.4->spacy) (0.1.5)\n",
      "Requirement already satisfied: shellingham>=1.3.0 in c:\\users\\yun wen\\anaconda3\\lib\\site-packages (from typer<1.0.0,>=0.3.0->spacy) (1.5.4)\n",
      "Requirement already satisfied: rich>=10.11.0 in c:\\users\\yun wen\\anaconda3\\lib\\site-packages (from typer<1.0.0,>=0.3.0->spacy) (13.3.5)\n",
      "Requirement already satisfied: cloudpathlib<1.0.0,>=0.7.0 in c:\\users\\yun wen\\anaconda3\\lib\\site-packages (from weasel<0.5.0,>=0.1.0->spacy) (0.20.0)\n",
      "Requirement already satisfied: smart-open<8.0.0,>=5.2.1 in c:\\users\\yun wen\\anaconda3\\lib\\site-packages (from weasel<0.5.0,>=0.1.0->spacy) (5.2.1)\n",
      "Requirement already satisfied: notebook>=4.4.1 in c:\\users\\yun wen\\anaconda3\\lib\\site-packages (from widgetsnbextension~=3.5.0->ipywidgets) (7.0.8)\n",
      "Requirement already satisfied: MarkupSafe>=2.0 in c:\\users\\yun wen\\anaconda3\\lib\\site-packages (from jinja2->spacy) (2.1.3)\n",
      "Requirement already satisfied: parso<0.9.0,>=0.8.0 in c:\\users\\yun wen\\anaconda3\\lib\\site-packages (from jedi>=0.16->ipython>=4.0.0->ipywidgets) (0.8.3)\n",
      "Requirement already satisfied: attrs>=22.2.0 in c:\\users\\yun wen\\anaconda3\\lib\\site-packages (from jsonschema>=2.6->nbformat>=4.2.0->ipywidgets) (24.2.0)\n",
      "Requirement already satisfied: jsonschema-specifications>=2023.03.6 in c:\\users\\yun wen\\anaconda3\\lib\\site-packages (from jsonschema>=2.6->nbformat>=4.2.0->ipywidgets) (2023.7.1)\n",
      "Requirement already satisfied: referencing>=0.28.4 in c:\\users\\yun wen\\anaconda3\\lib\\site-packages (from jsonschema>=2.6->nbformat>=4.2.0->ipywidgets) (0.30.2)\n",
      "Requirement already satisfied: rpds-py>=0.7.1 in c:\\users\\yun wen\\anaconda3\\lib\\site-packages (from jsonschema>=2.6->nbformat>=4.2.0->ipywidgets) (0.10.6)\n",
      "Requirement already satisfied: python-dateutil>=2.8.2 in c:\\users\\yun wen\\anaconda3\\lib\\site-packages (from jupyter-client>=6.1.12->ipykernel>=4.5.1->ipywidgets) (2.8.2)\n",
      "Requirement already satisfied: platformdirs>=2.5 in c:\\users\\yun wen\\anaconda3\\lib\\site-packages (from jupyter-core!=5.0.*,>=4.12->ipykernel>=4.5.1->ipywidgets) (3.10.0)\n",
      "Requirement already satisfied: pywin32>=300 in c:\\users\\yun wen\\anaconda3\\lib\\site-packages (from jupyter-core!=5.0.*,>=4.12->ipykernel>=4.5.1->ipywidgets) (305.1)\n",
      "Requirement already satisfied: marisa-trie>=1.1.0 in c:\\users\\yun wen\\anaconda3\\lib\\site-packages (from language-data>=1.2->langcodes<4.0.0,>=3.2.0->spacy) (1.2.1)\n",
      "Requirement already satisfied: jupyter-server<3,>=2.4.0 in c:\\users\\yun wen\\anaconda3\\lib\\site-packages (from notebook>=4.4.1->widgetsnbextension~=3.5.0->ipywidgets) (2.10.0)\n",
      "Requirement already satisfied: jupyterlab-server<3,>=2.22.1 in c:\\users\\yun wen\\anaconda3\\lib\\site-packages (from notebook>=4.4.1->widgetsnbextension~=3.5.0->ipywidgets) (2.25.1)\n",
      "Requirement already satisfied: jupyterlab<4.1,>=4.0.2 in c:\\users\\yun wen\\anaconda3\\lib\\site-packages (from notebook>=4.4.1->widgetsnbextension~=3.5.0->ipywidgets) (4.0.11)\n",
      "Requirement already satisfied: notebook-shim<0.3,>=0.2 in c:\\users\\yun wen\\anaconda3\\lib\\site-packages (from notebook>=4.4.1->widgetsnbextension~=3.5.0->ipywidgets) (0.2.3)\n",
      "Requirement already satisfied: wcwidth in c:\\users\\yun wen\\anaconda3\\lib\\site-packages (from prompt-toolkit<3.1.0,>=3.0.41->ipython>=4.0.0->ipywidgets) (0.2.5)\n",
      "Requirement already satisfied: markdown-it-py<3.0.0,>=2.2.0 in c:\\users\\yun wen\\anaconda3\\lib\\site-packages (from rich>=10.11.0->typer<1.0.0,>=0.3.0->spacy) (2.2.0)\n",
      "Requirement already satisfied: executing in c:\\users\\yun wen\\anaconda3\\lib\\site-packages (from stack-data->ipython>=4.0.0->ipywidgets) (0.8.3)\n",
      "Requirement already satisfied: asttokens in c:\\users\\yun wen\\anaconda3\\lib\\site-packages (from stack-data->ipython>=4.0.0->ipywidgets) (2.0.5)\n",
      "Requirement already satisfied: pure-eval in c:\\users\\yun wen\\anaconda3\\lib\\site-packages (from stack-data->ipython>=4.0.0->ipywidgets) (0.2.2)\n",
      "Requirement already satisfied: anyio>=3.1.0 in c:\\users\\yun wen\\anaconda3\\lib\\site-packages (from jupyter-server<3,>=2.4.0->notebook>=4.4.1->widgetsnbextension~=3.5.0->ipywidgets) (4.2.0)\n",
      "Requirement already satisfied: argon2-cffi in c:\\users\\yun wen\\anaconda3\\lib\\site-packages (from jupyter-server<3,>=2.4.0->notebook>=4.4.1->widgetsnbextension~=3.5.0->ipywidgets) (21.3.0)\n",
      "Requirement already satisfied: jupyter-events>=0.6.0 in c:\\users\\yun wen\\anaconda3\\lib\\site-packages (from jupyter-server<3,>=2.4.0->notebook>=4.4.1->widgetsnbextension~=3.5.0->ipywidgets) (0.8.0)\n",
      "Requirement already satisfied: jupyter-server-terminals in c:\\users\\yun wen\\anaconda3\\lib\\site-packages (from jupyter-server<3,>=2.4.0->notebook>=4.4.1->widgetsnbextension~=3.5.0->ipywidgets) (0.4.4)\n",
      "Requirement already satisfied: nbconvert>=6.4.4 in c:\\users\\yun wen\\anaconda3\\lib\\site-packages (from jupyter-server<3,>=2.4.0->notebook>=4.4.1->widgetsnbextension~=3.5.0->ipywidgets) (7.10.0)\n",
      "Requirement already satisfied: overrides in c:\\users\\yun wen\\anaconda3\\lib\\site-packages (from jupyter-server<3,>=2.4.0->notebook>=4.4.1->widgetsnbextension~=3.5.0->ipywidgets) (7.4.0)\n",
      "Requirement already satisfied: prometheus-client in c:\\users\\yun wen\\anaconda3\\lib\\site-packages (from jupyter-server<3,>=2.4.0->notebook>=4.4.1->widgetsnbextension~=3.5.0->ipywidgets) (0.14.1)\n",
      "Requirement already satisfied: pywinpty in c:\\users\\yun wen\\anaconda3\\lib\\site-packages (from jupyter-server<3,>=2.4.0->notebook>=4.4.1->widgetsnbextension~=3.5.0->ipywidgets) (2.0.10)\n",
      "Requirement already satisfied: send2trash>=1.8.2 in c:\\users\\yun wen\\anaconda3\\lib\\site-packages (from jupyter-server<3,>=2.4.0->notebook>=4.4.1->widgetsnbextension~=3.5.0->ipywidgets) (1.8.2)\n",
      "Requirement already satisfied: terminado>=0.8.3 in c:\\users\\yun wen\\anaconda3\\lib\\site-packages (from jupyter-server<3,>=2.4.0->notebook>=4.4.1->widgetsnbextension~=3.5.0->ipywidgets) (0.17.1)\n",
      "Requirement already satisfied: websocket-client in c:\\users\\yun wen\\anaconda3\\lib\\site-packages (from jupyter-server<3,>=2.4.0->notebook>=4.4.1->widgetsnbextension~=3.5.0->ipywidgets) (1.8.0)\n",
      "Requirement already satisfied: async-lru>=1.0.0 in c:\\users\\yun wen\\anaconda3\\lib\\site-packages (from jupyterlab<4.1,>=4.0.2->notebook>=4.4.1->widgetsnbextension~=3.5.0->ipywidgets) (2.0.4)\n",
      "Requirement already satisfied: jupyter-lsp>=2.0.0 in c:\\users\\yun wen\\anaconda3\\lib\\site-packages (from jupyterlab<4.1,>=4.0.2->notebook>=4.4.1->widgetsnbextension~=3.5.0->ipywidgets) (2.2.0)\n",
      "Requirement already satisfied: babel>=2.10 in c:\\users\\yun wen\\anaconda3\\lib\\site-packages (from jupyterlab-server<3,>=2.22.1->notebook>=4.4.1->widgetsnbextension~=3.5.0->ipywidgets) (2.11.0)\n",
      "Requirement already satisfied: json5>=0.9.0 in c:\\users\\yun wen\\anaconda3\\lib\\site-packages (from jupyterlab-server<3,>=2.22.1->notebook>=4.4.1->widgetsnbextension~=3.5.0->ipywidgets) (0.9.6)\n",
      "Requirement already satisfied: mdurl~=0.1 in c:\\users\\yun wen\\anaconda3\\lib\\site-packages (from markdown-it-py<3.0.0,>=2.2.0->rich>=10.11.0->typer<1.0.0,>=0.3.0->spacy) (0.1.0)\n",
      "Requirement already satisfied: six>=1.5 in c:\\users\\yun wen\\anaconda3\\lib\\site-packages (from python-dateutil>=2.8.2->jupyter-client>=6.1.12->ipykernel>=4.5.1->ipywidgets) (1.16.0)\n",
      "Requirement already satisfied: sniffio>=1.1 in c:\\users\\yun wen\\anaconda3\\lib\\site-packages (from anyio>=3.1.0->jupyter-server<3,>=2.4.0->notebook>=4.4.1->widgetsnbextension~=3.5.0->ipywidgets) (1.3.0)\n",
      "Requirement already satisfied: pytz>=2015.7 in c:\\users\\yun wen\\anaconda3\\lib\\site-packages (from babel>=2.10->jupyterlab-server<3,>=2.22.1->notebook>=4.4.1->widgetsnbextension~=3.5.0->ipywidgets) (2023.3.post1)\n",
      "Requirement already satisfied: python-json-logger>=2.0.4 in c:\\users\\yun wen\\anaconda3\\lib\\site-packages (from jupyter-events>=0.6.0->jupyter-server<3,>=2.4.0->notebook>=4.4.1->widgetsnbextension~=3.5.0->ipywidgets) (2.0.7)\n",
      "Requirement already satisfied: pyyaml>=5.3 in c:\\users\\yun wen\\anaconda3\\lib\\site-packages (from jupyter-events>=0.6.0->jupyter-server<3,>=2.4.0->notebook>=4.4.1->widgetsnbextension~=3.5.0->ipywidgets) (6.0.1)\n",
      "Requirement already satisfied: rfc3339-validator in c:\\users\\yun wen\\anaconda3\\lib\\site-packages (from jupyter-events>=0.6.0->jupyter-server<3,>=2.4.0->notebook>=4.4.1->widgetsnbextension~=3.5.0->ipywidgets) (0.1.4)\n",
      "Requirement already satisfied: rfc3986-validator>=0.1.1 in c:\\users\\yun wen\\anaconda3\\lib\\site-packages (from jupyter-events>=0.6.0->jupyter-server<3,>=2.4.0->notebook>=4.4.1->widgetsnbextension~=3.5.0->ipywidgets) (0.1.1)\n",
      "Requirement already satisfied: beautifulsoup4 in c:\\users\\yun wen\\anaconda3\\lib\\site-packages (from nbconvert>=6.4.4->jupyter-server<3,>=2.4.0->notebook>=4.4.1->widgetsnbextension~=3.5.0->ipywidgets) (4.12.2)\n",
      "Requirement already satisfied: bleach!=5.0.0 in c:\\users\\yun wen\\anaconda3\\lib\\site-packages (from nbconvert>=6.4.4->jupyter-server<3,>=2.4.0->notebook>=4.4.1->widgetsnbextension~=3.5.0->ipywidgets) (4.1.0)\n",
      "Requirement already satisfied: defusedxml in c:\\users\\yun wen\\anaconda3\\lib\\site-packages (from nbconvert>=6.4.4->jupyter-server<3,>=2.4.0->notebook>=4.4.1->widgetsnbextension~=3.5.0->ipywidgets) (0.7.1)\n",
      "Requirement already satisfied: jupyterlab-pygments in c:\\users\\yun wen\\anaconda3\\lib\\site-packages (from nbconvert>=6.4.4->jupyter-server<3,>=2.4.0->notebook>=4.4.1->widgetsnbextension~=3.5.0->ipywidgets) (0.1.2)\n",
      "Requirement already satisfied: mistune<4,>=2.0.3 in c:\\users\\yun wen\\anaconda3\\lib\\site-packages (from nbconvert>=6.4.4->jupyter-server<3,>=2.4.0->notebook>=4.4.1->widgetsnbextension~=3.5.0->ipywidgets) (2.0.4)\n",
      "Requirement already satisfied: nbclient>=0.5.0 in c:\\users\\yun wen\\anaconda3\\lib\\site-packages (from nbconvert>=6.4.4->jupyter-server<3,>=2.4.0->notebook>=4.4.1->widgetsnbextension~=3.5.0->ipywidgets) (0.8.0)\n",
      "Requirement already satisfied: pandocfilters>=1.4.1 in c:\\users\\yun wen\\anaconda3\\lib\\site-packages (from nbconvert>=6.4.4->jupyter-server<3,>=2.4.0->notebook>=4.4.1->widgetsnbextension~=3.5.0->ipywidgets) (1.5.0)\n",
      "Requirement already satisfied: tinycss2 in c:\\users\\yun wen\\anaconda3\\lib\\site-packages (from nbconvert>=6.4.4->jupyter-server<3,>=2.4.0->notebook>=4.4.1->widgetsnbextension~=3.5.0->ipywidgets) (1.2.1)\n",
      "Requirement already satisfied: argon2-cffi-bindings in c:\\users\\yun wen\\anaconda3\\lib\\site-packages (from argon2-cffi->jupyter-server<3,>=2.4.0->notebook>=4.4.1->widgetsnbextension~=3.5.0->ipywidgets) (21.2.0)\n",
      "Requirement already satisfied: webencodings in c:\\users\\yun wen\\anaconda3\\lib\\site-packages (from bleach!=5.0.0->nbconvert>=6.4.4->jupyter-server<3,>=2.4.0->notebook>=4.4.1->widgetsnbextension~=3.5.0->ipywidgets) (0.5.1)\n",
      "Requirement already satisfied: fqdn in c:\\users\\yun wen\\anaconda3\\lib\\site-packages (from jsonschema[format-nongpl]>=4.18.0->jupyter-events>=0.6.0->jupyter-server<3,>=2.4.0->notebook>=4.4.1->widgetsnbextension~=3.5.0->ipywidgets) (1.5.1)\n",
      "Requirement already satisfied: isoduration in c:\\users\\yun wen\\anaconda3\\lib\\site-packages (from jsonschema[format-nongpl]>=4.18.0->jupyter-events>=0.6.0->jupyter-server<3,>=2.4.0->notebook>=4.4.1->widgetsnbextension~=3.5.0->ipywidgets) (20.11.0)\n",
      "Requirement already satisfied: jsonpointer>1.13 in c:\\users\\yun wen\\anaconda3\\lib\\site-packages (from jsonschema[format-nongpl]>=4.18.0->jupyter-events>=0.6.0->jupyter-server<3,>=2.4.0->notebook>=4.4.1->widgetsnbextension~=3.5.0->ipywidgets) (2.1)\n",
      "Requirement already satisfied: uri-template in c:\\users\\yun wen\\anaconda3\\lib\\site-packages (from jsonschema[format-nongpl]>=4.18.0->jupyter-events>=0.6.0->jupyter-server<3,>=2.4.0->notebook>=4.4.1->widgetsnbextension~=3.5.0->ipywidgets) (1.3.0)\n",
      "Requirement already satisfied: webcolors>=1.11 in c:\\users\\yun wen\\anaconda3\\lib\\site-packages (from jsonschema[format-nongpl]>=4.18.0->jupyter-events>=0.6.0->jupyter-server<3,>=2.4.0->notebook>=4.4.1->widgetsnbextension~=3.5.0->ipywidgets) (24.11.1)\n",
      "Requirement already satisfied: cffi>=1.0.1 in c:\\users\\yun wen\\anaconda3\\lib\\site-packages (from argon2-cffi-bindings->argon2-cffi->jupyter-server<3,>=2.4.0->notebook>=4.4.1->widgetsnbextension~=3.5.0->ipywidgets) (1.16.0)\n",
      "Requirement already satisfied: soupsieve>1.2 in c:\\users\\yun wen\\anaconda3\\lib\\site-packages (from beautifulsoup4->nbconvert>=6.4.4->jupyter-server<3,>=2.4.0->notebook>=4.4.1->widgetsnbextension~=3.5.0->ipywidgets) (2.5)\n",
      "Requirement already satisfied: pycparser in c:\\users\\yun wen\\anaconda3\\lib\\site-packages (from cffi>=1.0.1->argon2-cffi-bindings->argon2-cffi->jupyter-server<3,>=2.4.0->notebook>=4.4.1->widgetsnbextension~=3.5.0->ipywidgets) (2.21)\n",
      "Requirement already satisfied: arrow>=0.15.0 in c:\\users\\yun wen\\anaconda3\\lib\\site-packages (from isoduration->jsonschema[format-nongpl]>=4.18.0->jupyter-events>=0.6.0->jupyter-server<3,>=2.4.0->notebook>=4.4.1->widgetsnbextension~=3.5.0->ipywidgets) (1.2.3)\n",
      "Note: you may need to restart the kernel to use updated packages.\n"
     ]
    }
   ],
   "source": [
    "# pip install spacy textblob ipywidgets"
   ]
  },
  {
   "cell_type": "code",
   "execution_count": 1,
   "id": "c8c604ac-b9a0-4c72-9ff6-c9145317a31f",
   "metadata": {
    "colab": {
     "base_uri": "https://localhost:8080/"
    },
    "id": "c8c604ac-b9a0-4c72-9ff6-c9145317a31f",
    "outputId": "07c9fc9c-6e65-406b-e63b-e138f27fa46c"
   },
   "outputs": [
    {
     "name": "stdout",
     "output_type": "stream",
     "text": [
      "\u001b[38;5;2m✔ Download and installation successful\u001b[0m\n",
      "You can now load the package via spacy.load('en_core_web_sm')\n"
     ]
    }
   ],
   "source": [
    "from spacy.cli import download\n",
    "\n",
    "download(\"en_core_web_sm\")"
   ]
  },
  {
   "cell_type": "code",
   "execution_count": 2,
   "id": "90741093-b526-4838-bfd5-553a0c2b1dc8",
   "metadata": {
    "id": "90741093-b526-4838-bfd5-553a0c2b1dc8"
   },
   "outputs": [],
   "source": [
    "import pandas as pd\n",
    "import numpy as np\n",
    "import regex as re\n",
    "import spacy\n",
    "from spacy import displacy\n",
    "from collections import Counter\n",
    "import requests\n",
    "from textblob import TextBlob\n",
    "import ipywidgets as widgets\n",
    "from IPython.display import display\n",
    "import matplotlib.pyplot as plt"
   ]
  },
  {
   "cell_type": "code",
   "execution_count": 3,
   "id": "0a6b7e6f-600f-4e9e-9adb-1adee54eeade",
   "metadata": {
    "colab": {
     "base_uri": "https://localhost:8080/",
     "height": 424
    },
    "id": "0a6b7e6f-600f-4e9e-9adb-1adee54eeade",
    "outputId": "c219e86b-f7da-4b93-f190-88cf2a47be62"
   },
   "outputs": [],
   "source": [
    "# excel into dataframe\n",
    "news_df = pd.read_excel(\"data/news_excerpts_parsed.xlsx\")\n",
    "wiki_df = pd.read_excel(\"data/sorted_wikileaks_parsed.xlsx\")\n",
    "\n",
    "\n",
    "pd.set_option('display.max_colwidth', None)"
   ]
  },
  {
   "cell_type": "code",
   "execution_count": null,
   "id": "649fa7c1-7c10-4893-a0af-701661acb68c",
   "metadata": {
    "id": "649fa7c1-7c10-4893-a0af-701661acb68c",
    "outputId": "21033ed4-9a0b-486c-fd4a-299ae481d02f"
   },
   "outputs": [
    {
     "name": "stdout",
     "output_type": "stream",
     "text": [
      "                                                                                                                           Link  \\\n",
      "0                                                  https://edition.cnn.com/2023/09/29/business/starbucks-union-wages/index.html   \n",
      "1         https://www.channelnewsasia.com/singapore/su-wenqiang-pleads-guilty-billion-dollar-money-laundering-convicted-4234731   \n",
      "2                                         https://edition.cnn.com/2023/05/22/tech/meta-facebook-data-privacy-eu-fine/index.html   \n",
      "3  https://www.channelnewsasia.com/singapore/billion-dollar-money-laundering-case-zhang-ruijin-sentenced-15-months-jail-4302416   \n",
      "4                                 https://edition.cnn.com/2024/03/05/politics/liberty-university-fined-campus-safety/index.html   \n",
      "\n",
      "                                                                                                                                                                                                                                                                                                                                                                                                                                                                                                                                                                                                                                                                                                                                                                                                                                                                                                                                Text  \n",
      "0                                                                                                                                                                                                                       Starbucks violated federal labor law when it increased wages and offered new perks and benefits only to non-union employees, a National Labor Relations Board judge found Thursday.\\n\\nThe decision is the latest in a series of NLRB rulings finding that Starbucks has violated labor law in its efforts to stop unions from forming in its coffee shops.\\n\\n“The issue at the heart of this case is whether, under current Board law, [Starbucks] was entitled to explicitly reward employees,” for not participating in union activity, “while falsely telling its workers that the federal labor law forced it to take this action,” wrote administrative law judge Mara-Louise Anzalone. “It was not.”  \n",
      "1                                                                                                                                                         The first suspect to plead guilty in Singapore's largest money laundering case was convicted and sentenced to 13 months' jail in a district court on Tuesday (Apr 2).\\n\\nSu Wenqiang, 32, admitted to 11 charges of money laundering, possessing proceeds from illegal remote gambling offences and lying to get work passes for himself and his wife.\\n\\nMore than S$3 billion (US$2.2 billion) in assets have been seized or frozen in relation to the case. This likely makes it one of the largest money laundering operations in the world.\\n\\nSu was among 10 suspects arrested in simultaneous police raids last August. The Cambodian national, whose passport states that he is from Fujian, was nabbed in a Good Class Bungalow along Lewis Road in Bukit Timah.  \n",
      "2  Meta has been fined a record-breaking €1.2 billion ($1.3 billion) by European Union regulators for violating EU privacy laws by transferring the personal data of Facebook users to servers in the United States.\\n\\nThe European Data Protection Board announced the fine in a statement Monday, saying it followed an inquiry into Facebook (FB) by the Irish Data Protection Commission, the chief regulator overseeing Meta’s operations in Europe.\\n\\nThe move highlights ongoing uncertainty about how global businesses may legally transfer EU users’ data to servers overseas.\\n\\nThe EU regulator said the processing and storage of personal data in the United States contravened Europe’s signature data privacy law, known as the General Data Protection Regulation. Chapter 5 of the GDPR sets out the conditions under which personal data can be transferred to third countries or international organizations.  \n",
      "3                                                                                                                                                                                                                                                                                                   SINGAPORE: A 45-year-old man linked to Singapore’s largest money laundering case was sentenced to 15 months' jail on Tuesday (Apr 30).\\n\\nZhang Ruijin was also ordered to forfeit around S$118 million of his assets to the state. This amounts to about 90 per cent of the S$131 million worth of assets originally seized by the police.\\n\\nHe is the fifth of 10 accused persons to be dealt with in relation to the case.\\n\\nZhang pleaded guilty on Tuesday to two counts of forgery-related offences and one of failing to satisfactorily account for property reasonably suspected to be benefits from criminal conduct.  \n",
      "4                                           The Department of Education imposed a record $14 million fine on Liberty University, a Christian college located in Virginia, over violations of a campus safety law, officials said Tuesday.\\n\\nThe Department of Education said it was the largest fine ever imposed for violating the Clery Act, which requires colleges to maintain and disclose campus crime statistics and security information.\\n\\nLiberty University also agreed to spend an additional $2 million to improve on-campus safety over the next two years.\\n\\nThe Department of Education initiated the review in 2022 after receiving complaints that alleged the college committed violations of the Clery Act. The review also followed a 2021 lawsuit, in which 12 women claimed that the school created an environment that increased the likelihood of sexual assault and rape. The case was settled in 2022.  \n"
     ]
    }
   ],
   "source": [
    "print(news_df.head())"
   ]
  },
  {
   "cell_type": "code",
   "execution_count": null,
   "id": "c48817fd-cae8-4eb1-b37e-9102ce5220ba",
   "metadata": {
    "id": "c48817fd-cae8-4eb1-b37e-9102ce5220ba",
    "outputId": "1131c570-bca1-464c-b860-e709a117878f"
   },
   "outputs": [
    {
     "name": "stdout",
     "output_type": "stream",
     "text": [
      "  PDF Path  \\\n",
      "0    1.pdf   \n",
      "1    1.pdf   \n",
      "2   10.pdf   \n",
      "3   10.pdf   \n",
      "4   10.pdf   \n",
      "\n",
      "                                                                                                                                                                                                                                                                                                                                                                                                                                                                                                                                                                                                                                                                                                                                                                                                                                                                                                                                                                                                                                                                                                                                                                                                                                                                   Text  \n",
      "0  Pristina Airport – Possible administrative irregularity regarding tender procedures involving Vendor 1 and Vendor 2\\n\\nAllegation\\n\\nTwo companies with the same owner took part at least three times in the same Airport tenders.\\n\\nBackground Information\\n\\nThe Kosovo citizen, Vendor 1 and Vendor 2 Representative, is the owner and Director of the Pristina-based Vendor 1 and also a 51% shareholder of the Pristina-Ljubljana-based company Vendor 2. Both companies have their residences at the same address in Pristina.\\n\\nBoth Vendor 1 and Vendor 2 submitted three times in 2003 for the same tenders:\\n\\nSupply and Mounting of Sonic System in the Fire Station Building. Winner was Vendor 2 with €1,530 followed by Vendor 1 with €1,620. The third company, Vendor 3, did not provide a price offer.\\n\\nCabling of Flat Display Information System (FIDS). Winner was Vendor 1 with €15,919 followed by Vendor 2 with €19,248.70. The other two competitors, Vendor 3 and Vendor 4, offered prices of Euro 19,702 and Euro 21,045.\\n\\nPurchase and fixing of Cramer Antenna. Winner was again Vendor 1 with €3,627.99 followed by Vendor 2 with €3,921. The other two competitors, Vendor 3 and Vendor 4, offered prices of €4,278 and €4,670.  \n",
      "1                                                                                      Investigative details\\n\\nIn his/her interviews conducted on 31st August and 14th September 2004, Vendor 1 and Vendor 2 Representative admitted that the fact that both Vendor 1 and Vendor 2 took part together in three Airport tenders put other competitors at a disadvantage, but alleged both companies have never exchanged information with regard to the price offers.\\n\\nThere were doubts whether both companies Vendor 3 and Vendor 4 exist and submitted bids for the three tenders. The ITF investigation, with support from the Kosovo Organised Crime Bureau (KOCB), has found no reference with regard to the existence of the alleged competitor Vendor 4 in Pristina. The alleged company Vendor 3 was found to be a supermarket located in Prizren.\\n\\nThe above-mentioned facts are already part of the ITF case no. 286/04 that was submitted to the International Prosecutor, UNMIK Department of Justice, in October 2004. On 1 December 2004, the ITF contacted the International Prosecutor for a legal assessment of this case. Although this case would clearly be a breach of Economic Law, there is no applicable law in Kosovo for the time being.  \n",
      "2                                                                                                                                                                                                                                                                                                                                                                                                                                                                                                                                                                                               \"An interoffice memorandum providing an “outstanding issues update to Official 2”, from DOTI Official 3 to Staff member 1 at the office of Official 2 dated 18 May 2001, could give rise to the suggestion that offers were provided by companies on 28 May 2001, and the Vendor had been chosen for the works in advance. However, a more likely explanation is the date of the interoffice memorandum has been incorrectly dated, since the document contains reference dates relating to project “events” which post date 18 May 2001. At paragraph 2b, the interoffice memorandum states that the Cargo Apron invitation to tender was based on summary documents.\"  \n",
      "3                                                                                                                                                                                               \"Allegation 2 & 3:\\n\\n(Specifically, three of the persons on the bid opening committee and evaluation committees were the same parties who should not have carried out both tasks.)\\n\\nand\\n\\n(The contract for the Cargo Apron Extension was not channeled through the Office of the Legal Adviser.)\\n\\nThe evaluation report dated 2 August 2001 is signed by three parties, who are also listed as having attended the bid opening session. This indicates that the composition of the bid opening committee and the evaluation committee overlapped.\\n\\nWhen asked about this issue in interview DOTI Official 2 confirmed that he/she was both on the bid opening committee and was a member of the evaluation committee. He/she added that the people who evaluated the offers signed the evaluation report. This is in conflict with UN regulations, which segregate the two roles. An interoffice memorandum dated 24 September 2001 indicates that the contract for the Cargo Apron Extension had not been channeled through the Office of the Legal Adviser.\"  \n",
      "4                                                                                                                                                                                                                                                                                                                                                                                                                                                  \"When asked about this in interview, the Divisional Manager stated: “Without seeing any other documents, on the face of it, it does appear that there could be a conflict of interest here. But the report was produced by a professional pavement engineer, at a laboratory. Therefore, one can assume a certain degree of integrity.”\\n\\nThe ITF notes that the PEAP Official indicated that he/she was unhappy about the Vendor self-certifying its work and he/she commented that the airport engineer should have questioned it.\\n\\nThe ITF does not have sufficient technical knowledge to assess the adequacy of the Vendor’s work. However, a letter from the Divisional Manager to Staff Member 3 dated 25 August 2002 gives rise to the possibility that it was not up to specification in certain areas.\"  \n"
     ]
    }
   ],
   "source": [
    "print(wiki_df.head())"
   ]
  },
  {
   "cell_type": "code",
   "execution_count": null,
   "id": "70d6b149-8b51-4a55-a5d1-9ef7fdb02463",
   "metadata": {
    "id": "70d6b149-8b51-4a55-a5d1-9ef7fdb02463"
   },
   "outputs": [],
   "source": [
    "# # # Use regex to clean the text by removing punctuation??\n",
    "# # pattern = r'[^\\w\\s]'\n",
    "# # news_df['text_cleaned'] = news_df['Text'].apply(lambda x: re.sub(pattern, '', x))\n",
    "\n",
    "# # Convert to lowercase\n",
    "# news_df['text_cleaned'] = news_df['Text'].str.lower()\n",
    "# wiki_df['text_cleaned'] = wiki_df['Text'].str.lower()\n",
    "\n",
    "# # to-do: handle special chara, missed handling (e.g 1.2 billion, removed puntuation becom 12 billion)\n",
    "\n",
    "# print(news_df.head())"
   ]
  },
  {
   "cell_type": "code",
   "execution_count": 4,
   "id": "4328dc23-f214-46c0-b714-b5ab421845f4",
   "metadata": {
    "id": "4328dc23-f214-46c0-b714-b5ab421845f4"
   },
   "outputs": [],
   "source": [
    "nlp = spacy.load('en_core_web_sm') # Load spaCy model"
   ]
  },
  {
   "cell_type": "code",
   "execution_count": 5,
   "id": "6c1791e7-904d-4f95-986a-6f6bba58352d",
   "metadata": {
    "id": "6c1791e7-904d-4f95-986a-6f6bba58352d",
    "outputId": "db8e7874-4768-4e1c-9df9-dd4ae53b01d4"
   },
   "outputs": [
    {
     "name": "stdout",
     "output_type": "stream",
     "text": [
      "0                                                     (Starbucks, violated, federal, labor, law, when, it, increased, wages, and, offered, new, perks, and, benefits, only, to, non, -, union, employees, ,, a, National, Labor, Relations, Board, judge, found, Thursday, ., \\n\\n, The, decision, is, the, latest, in, a, series, of, NLRB, rulings, finding, that, Starbucks, has, violated, labor, law, in, its, efforts, to, stop, unions, from, forming, in, its, coffee, shops, ., \\n\\n, “, The, issue, at, the, heart, of, this, case, is, whether, ,, under, current, Board, law, ,, [, Starbucks, ], was, entitled, to, explicitly, reward, employees, ,, ”, for, not, participating, in, union, activity, ,, “, ...)\n",
      "1                                                                (The, first, suspect, to, plead, guilty, in, Singapore, 's, largest, money, laundering, case, was, convicted, and, sentenced, to, 13, months, ', jail, in, a, district, court, on, Tuesday, (, Apr, 2, ), ., \\n\\n, Su, Wenqiang, ,, 32, ,, admitted, to, 11, charges, of, money, laundering, ,, possessing, proceeds, from, illegal, remote, gambling, offences, and, lying, to, get, work, passes, for, himself, and, his, wife, ., \\n\\n, More, than, S$3, billion, (, US$, 2.2, billion, ), in, assets, have, been, seized, or, frozen, in, relation, to, the, case, ., This, likely, makes, it, one, of, the, largest, money, laundering, operations, ...)\n",
      "2                    (Meta, has, been, fined, a, record, -, breaking, €, 1.2, billion, (, $, 1.3, billion, ), by, European, Union, regulators, for, violating, EU, privacy, laws, by, transferring, the, personal, data, of, Facebook, users, to, servers, in, the, United, States, ., \\n\\n, The, European, Data, Protection, Board, announced, the, fine, in, a, statement, Monday, ,, saying, it, followed, an, inquiry, into, Facebook, (, FB, ), by, the, Irish, Data, Protection, Commission, ,, the, chief, regulator, overseeing, Meta, ’s, operations, in, Europe, ., \\n\\n, The, move, highlights, ongoing, uncertainty, about, how, global, businesses, may, legally, transfer, EU, users, ’, data, to, servers, ...)\n",
      "3                                                                                                    (SINGAPORE, :, A, 45, -, year, -, old, man, linked, to, Singapore, ’s, largest, money, laundering, case, was, sentenced, to, 15, months, ', jail, on, Tuesday, (, Apr, 30, ), ., \\n\\n, Zhang, Ruijin, was, also, ordered, to, forfeit, around, S$118, million, of, his, assets, to, the, state, ., This, amounts, to, about, 90, per, cent, of, the, S$131, million, worth, of, assets, originally, seized, by, the, police, ., \\n\\n, He, is, the, fifth, of, 10, accused, persons, to, be, dealt, with, in, relation, to, the, case, ., \\n\\n, Zhang, pleaded, guilty, on, Tuesday, to, two, counts, of, forgery, -, ...)\n",
      "4            (The, Department, of, Education, imposed, a, record, $, 14, million, fine, on, Liberty, University, ,, a, Christian, college, located, in, Virginia, ,, over, violations, of, a, campus, safety, law, ,, officials, said, Tuesday, ., \\n\\n, The, Department, of, Education, said, it, was, the, largest, fine, ever, imposed, for, violating, the, Clery, Act, ,, which, requires, colleges, to, maintain, and, disclose, campus, crime, statistics, and, security, information, ., \\n\\n, Liberty, University, also, agreed, to, spend, an, additional, $, 2, million, to, improve, on, -, campus, safety, over, the, next, two, years, ., \\n\\n, The, Department, of, Education, initiated, the, review, in, ...)\n",
      "                                                                                                                                                                                                                                                                                                                                                                 ...                                                                                                                                                                                                                                                                                                                                                          \n",
      "1504         (NOT, A, SURPRISE, FOR, INDUSTRY, FOLLOWERS, \\n\\n, It, is, hard, to, imagine, how, regulators, did, not, realise, MYAirline, was, in, financial, distress, ., \\n\\n, In, Malaysia, ,, the, Malaysia, Aviation, Commission, (, Mavcom, ), regulates, economic, matters, and, ensures, airlines, are, financially, fit, while, the, Civil, Aviation, Authority, of, Malaysia, (, CAAM, ), is, responsible, for, making, sure, an, airline, meets, technical, requirements, ,, including, safety, ., \\n\\n, While, it, is, not, unusual, for, an, airline, to, cease, operations, ,, particularly, a, start, -, up, airline, ,, it, is, unusual, for, regulators, not, to, be, aware, of, airlines, ’, financial, ...)\n",
      "1505                                                                                      (Ahead, of, the, Tokyo, 2020, Olympics, ,, Japan, prohibited, the, unauthorised, resale, of, event, tickets, above, their, sale, price, ., The, punishment, was, up, to, one, year, ’s, imprisonment, ,, a, fine, of, up, to, ¥, 1, million, (, S$10,200, ), ,, or, both, ., \\n\\n, In, Australia, ’s, New, South, Wales, ,, it, is, an, offence, to, resell, a, ticket, at, more, than, 10, per, cent, above, its, original, face, value, ., A, similar, rule, is, in, place, in, Victoria, ,, Queensland, and, South, Australia, ., \\n\\n, Could, the, answer, lie, in, restricting, the, profit, margin, for, ticket, resales, ...)\n",
      "1506                                                                          (At, a, court, hearing, on, Monday, in, the, city, of, Kiel, ,, about, 100, km, (, 60, miles, ), north, of, Hamburg, ,, lawyers, were, trying, to, determine, whether, the, man, 's, military, collection, had, violated, Germany, 's, War, Weapons, Control, Act, ., \\n\\n, The, act, regulates, the, manufacture, ,, sale, ,, and, transport, of, weapons, of, war, ., \\n\\n, The, defence, argues, that, many, of, the, weapons, are, no, longer, functional, and, that, the, tank, was, bought, as, scrap, ., They, are, considering, accepting, a, lower, fine, of, €, 50,000, ,, Die, Welt, newspaper, reported, ., \\n\\n, Meanwhile, ,, ...)\n",
      "1507                  (Ray, Mann, ,, managing, director, of, the, West, Wales, Airport, in, Aberporth, ,, said, the, new, airspace, would, only, be, activated, when, unmanned, flying, was, scheduled, ,, and, would, be, subject, to, \", stringent, safety, requirements, ,, regulated, by, both, the, CAA, and, the, Military, Aviation, Authority, \", ., \\n\\n, He, added, :, \", The, CAA, announcement, to, allow, this, specialised, airspace, is, now, the, strongest, recognition, that, west, Wales, is, the, focal, point, for, unmanned, aerial, systems, development, in, the, UK, ., \\n\\n, \", The, airspace, adds, significantly, to, the, many, specialised, assets, that, already, exist, at, the, airport, ...)\n",
      "1508    (\", These, changes, will, also, strengthen, laws, governing, digital, payment, tokens, (, DPTs, ), to, ensure, companies, issuing, such, tokens, protect, the, assets, of, their, users, ,, said, Transport, Minister, Ong, Ye, Kung, ,, who, is, a, Monetary, Authority, of, Singapore, (, MAS, ), board, member, ., \\n\\n, Parliament, passed, the, Payment, Services, (, Amendment, ), Bill, on, Monday, following, a, roughly, two, -, hour, debate, that, saw, 10, MPs, taking, part, ., \\n\\n, Under, the, changes, ,, Singapore, will, implement, enhanced, standards, for, virtual, asset, service, providers, which, deal, in, DPTs, ,, otherwise, known, as, cryptocurrencies, ., \\n\\n, Cryptocurrencies, ...)\n",
      "Name: doc, Length: 1509, dtype: object\n"
     ]
    }
   ],
   "source": [
    "news_df['doc'] = news_df['Text'].apply(nlp)\n",
    "print(news_df['doc'])"
   ]
  },
  {
   "cell_type": "code",
   "execution_count": 6,
   "id": "a6ded5e4-daeb-4682-96a8-3ddd07a99ef5",
   "metadata": {
    "id": "a6ded5e4-daeb-4682-96a8-3ddd07a99ef5"
   },
   "outputs": [],
   "source": [
    "wiki_df['doc'] = wiki_df['Text'].apply(nlp)"
   ]
  },
  {
   "cell_type": "markdown",
   "id": "714edba4-0e08-4af6-a1a6-eed575fc2ba9",
   "metadata": {
    "id": "714edba4-0e08-4af6-a1a6-eed575fc2ba9"
   },
   "source": [
    "Tokenization"
   ]
  },
  {
   "cell_type": "code",
   "execution_count": 7,
   "id": "c8b4f5f6-1b8a-47c2-aa35-439ed9a7f189",
   "metadata": {
    "id": "c8b4f5f6-1b8a-47c2-aa35-439ed9a7f189",
    "outputId": "0a0f654b-3bdd-4c9e-fdbe-c5979b82af77"
   },
   "outputs": [
    {
     "name": "stdout",
     "output_type": "stream",
     "text": [
      "0                                                                                                                                                                                                                                                                                   [(Starbucks, ORG), (National Labor Relations Board, ORG), (Thursday, DATE), (NLRB, ORG), (Starbucks, ORG), (Board, ORG), (Starbucks, PRODUCT), (Mara-Louise Anzalone, ORG)]\n",
      "1                                                                                                                                                                     [(first, ORDINAL), (Singapore, GPE), (13 months', DATE), (Tuesday, DATE), (2, CARDINAL), (Su Wenqiang, PERSON), (32, DATE), (11, CARDINAL), (More than S$3 billion, MONEY), (US$2.2 billion, MONEY), (Su, PERSON), (10, CARDINAL), (last August, DATE), (Cambodian, NORP), (Fujian, GPE)]\n",
      "2       [(Meta, ORG), (€1.2 billion, MONEY), ($1.3 billion, MONEY), (European Union, ORG), (EU, ORG), (the United States, GPE), (The European Data Protection Board, ORG), (Monday, DATE), (Facebook (FB, WORK_OF_ART), (the Irish Data Protection Commission, ORG), (Meta, ORG), (Europe, LOC), (EU, ORG), (EU, ORG), (the United States, GPE), (Europe, LOC), (the General Data Protection Regulation, ORG), (Chapter 5, LAW), (GDPR, ORG), (third, ORDINAL)]\n",
      "3                                                                                                                                                                                                                       [(SINGAPORE, GPE), (45-year-old, DATE), (Singapore, GPE), (15 months', DATE), (Tuesday, DATE), (Zhang Ruijin, PERSON), (about 90 per cent, MONEY), (fifth, ORDINAL), (10, CARDINAL), (Tuesday, DATE), (two, CARDINAL), (one, CARDINAL)]\n",
      "4                                   [(The Department of Education, ORG), (a record $14 million, MONEY), (Liberty University, ORG), (Christian, NORP), (Virginia, GPE), (Tuesday, DATE), (The Department of Education, ORG), (the Clery Act, LAW), (Liberty University, ORG), (an additional $2 million, MONEY), (the next two years, DATE), (The Department of Education, ORG), (2022, DATE), (the Clery Act, LAW), (2021, DATE), (12, CARDINAL), (2022, DATE)]\n",
      "                                                                                                                                                                                                                                 ...                                                                                                                                                                                                                           \n",
      "1504                                                                                                                                                                                                                                              [(MYAirline, ORG), (Malaysia, GPE), (the Malaysia Aviation Commission, ORG), (Mavcom, ORG), (the Civil Aviation Authority, ORG), (Malaysia, GPE), (Anthony Loke, PERSON), (MYAirline, ORG), (Mavcom, PERSON)]\n",
      "1505                                                                                                              [(the Tokyo 2020 Olympics, EVENT), (Japan, GPE), (up to one year’s, DATE), (up to ¥1 million, MONEY), (S$10,200, ORG), (Australia, GPE), (New South Wales, GPE), (more than 10, CARDINAL), (Victoria, GPE), (Queensland, GPE), (South Australia, GPE), (Singapore, GPE), (2019, DATE), (the Ministry of Trade and Industry, ORG), (MTI, ORG)]\n",
      "1506                                                                                                                                                                                   [(Monday, DATE), (Kiel, PERSON), (about 100km, QUANTITY), (60 miles, QUANTITY), (Hamburg, GPE), (Germany, GPE), (War Weapons Control Act, ORG), (50,000, MONEY), (Die Welt, ORG), (July 2015, DATE), (about 20, CARDINAL), (almost nine hours, TIME), (Panther, PERSON)]\n",
      "1507                                                                                                                                                                                                                                     [(Ray Mann, PERSON), (the West Wales Airport, GPE), (Aberporth, GPE), (the Military Aviation Authority, ORG), (CAA, ORG), (west Wales, GPE), (UK, GPE), (Britain, GPE), (£60bn, DATE), (annually, DATE), (2020, DATE)]\n",
      "1508                                                                                    [(tokens, PERSON), (Ong Ye Kung, PERSON), (a Monetary Authority of Singapore, ORG), (MAS, GPE), (Parliament, ORG), (the Payment Services, ORG), (Monday, DATE), (two-hour, TIME), (10, CARDINAL), (Singapore, GPE), (Cryptocurrencies, ORG), (first, ORDINAL), (2009, DATE), (the past weekend, DATE), (30,000, MONEY), (first, ORDINAL), (Bloomberg, ORG), (MAS, ORG)]\n",
      "Name: entities, Length: 1509, dtype: object\n"
     ]
    }
   ],
   "source": [
    "def extract_entities(doc):\n",
    "    entities = []\n",
    "    for ent in doc.ents:\n",
    "        entities.append((ent.text, ent.label_))\n",
    "    return entities\n",
    "\n",
    "news_df['entities'] = news_df['doc'].apply(extract_entities)\n",
    "\n",
    "print(news_df['entities'])"
   ]
  },
  {
   "cell_type": "markdown",
   "id": "0044d7a3-bdd6-4184-bbc0-e4515cbf4673",
   "metadata": {
    "id": "0044d7a3-bdd6-4184-bbc0-e4515cbf4673"
   },
   "source": [
    "Sentiment Analysis"
   ]
  },
  {
   "cell_type": "markdown",
   "id": "7bdd44cc-9e62-4365-9f1d-945bd5613a71",
   "metadata": {
    "id": "7bdd44cc-9e62-4365-9f1d-945bd5613a71"
   },
   "source": [
    "The sentiment property returns a namedtuple of the form Sentiment(polarity, subjectivity). The polarity score is a float within the range [-1.0, 1.0]. The subjectivity is a float within the range [0.0, 1.0] where 0.0 is very objective and 1.0 is very subjective."
   ]
  },
  {
   "cell_type": "code",
   "execution_count": 8,
   "id": "8e799dfb-71b9-4b91-96fa-52a8e4afe8f3",
   "metadata": {
    "id": "8e799dfb-71b9-4b91-96fa-52a8e4afe8f3"
   },
   "outputs": [],
   "source": [
    "# Process the text using a spaCy pipeline to tokenize,\n",
    "def extract_sentiment(doc):\n",
    "    entities_with_sentiment = []\n",
    "\n",
    "    for ent in doc:\n",
    "        sentiment = TextBlob(ent.sent.text).sentiment\n",
    "        entities_with_sentiment.append({\n",
    "            \"text\": ent.text,\n",
    "            'pol': sentiment.polarity,\n",
    "            'subj': sentiment.subjectivity\n",
    "        })\n",
    "\n",
    "    return entities_with_sentiment\n",
    "\n",
    "\n",
    "news_df['sentiment'] = news_df['doc'].apply(extract_sentiment)"
   ]
  },
  {
   "cell_type": "code",
   "execution_count": null,
   "id": "2b43282a-4dd3-402c-80c8-4f2746d549ea",
   "metadata": {
    "id": "2b43282a-4dd3-402c-80c8-4f2746d549ea",
    "outputId": "4b5c2efd-2b3c-4809-8e70-69d38c4eb748"
   },
   "outputs": [
    {
     "name": "stdout",
     "output_type": "stream",
     "text": [
      "(1509,)\n",
      "0                                                                                                                                                                                                                                                                                                                                                                                                                                                                                                                                                                                                                                                                                                                                                                                                                                                                                                              [{'text': 'Starbucks', 'pol': 0.06818181818181818, 'subj': 0.7272727272727273}, {'text': 'violated', 'pol': 0.06818181818181818, 'subj': 0.7272727272727273}, {'text': 'federal', 'pol': 0.06818181818181818, 'subj': 0.7272727272727273}, {'text': 'labor', 'pol': 0.06818181818181818, 'subj': 0.7272727272727273}, {'text': 'law', 'pol': 0.06818181818181818, 'subj': 0.7272727272727273}, {'text': 'when', 'pol': 0.06818181818181818, 'subj': 0.7272727272727273}, {'text': 'it', 'pol': 0.06818181818181818, 'subj': 0.7272727272727273}, {'text': 'increased', 'pol': 0.06818181818181818, 'subj': 0.7272727272727273}, {'text': 'wages', 'pol': 0.06818181818181818, 'subj': 0.7272727272727273}, {'text': 'and', 'pol': 0.06818181818181818, 'subj': 0.7272727272727273}, {'text': 'offered', 'pol': 0.06818181818181818, 'subj': 0.7272727272727273}, {'text': 'new', 'pol': 0.06818181818181818, 'subj': 0.7272727272727273}, {'text': 'perks', 'pol': 0.06818181818181818, 'subj': 0.7272727272727273}, {'text': 'and', 'pol': 0.06818181818181818, 'subj': 0.7272727272727273}, {'text': 'benefits', 'pol': 0.06818181818181818, 'subj': 0.7272727272727273}, {'text': 'only', 'pol': 0.06818181818181818, 'subj': 0.7272727272727273}, {'text': 'to', 'pol': 0.06818181818181818, 'subj': 0.7272727272727273}, {'text': 'non', 'pol': 0.06818181818181818, 'subj': 0.7272727272727273}, {'text': '-', 'pol': 0.06818181818181818, 'subj': 0.7272727272727273}, {'text': 'union', 'pol': 0.06818181818181818, 'subj': 0.7272727272727273}, {'text': 'employees', 'pol': 0.06818181818181818, 'subj': 0.7272727272727273}, {'text': ',', 'pol': 0.06818181818181818, 'subj': 0.7272727272727273}, {'text': 'a', 'pol': 0.06818181818181818, 'subj': 0.7272727272727273}, {'text': 'National', 'pol': 0.06818181818181818, 'subj': 0.7272727272727273}, {'text': 'Labor', 'pol': 0.06818181818181818, 'subj': 0.7272727272727273}, {'text': 'Relations', 'pol': 0.06818181818181818, 'subj': 0.7272727272727273}, {'text': 'Board', 'pol': 0.06818181818181818, 'subj': 0.7272727272727273}, {'text': 'judge', 'pol': 0.06818181818181818, 'subj': 0.7272727272727273}, {'text': 'found', 'pol': 0.06818181818181818, 'subj': 0.7272727272727273}, {'text': 'Thursday', 'pol': 0.06818181818181818, 'subj': 0.7272727272727273}, {'text': '.', 'pol': 0.06818181818181818, 'subj': 0.7272727272727273}, {'text': '\n",
      "\n",
      "', 'pol': 0.06818181818181818, 'subj': 0.7272727272727273}, {'text': 'The', 'pol': 0.5, 'subj': 0.9}, {'text': 'decision', 'pol': 0.5, 'subj': 0.9}, {'text': 'is', 'pol': 0.5, 'subj': 0.9}, {'text': 'the', 'pol': 0.5, 'subj': 0.9}, {'text': 'latest', 'pol': 0.5, 'subj': 0.9}, {'text': 'in', 'pol': 0.5, 'subj': 0.9}, {'text': 'a', 'pol': 0.5, 'subj': 0.9}, {'text': 'series', 'pol': 0.5, 'subj': 0.9}, {'text': 'of', 'pol': 0.5, 'subj': 0.9}, {'text': 'NLRB', 'pol': 0.5, 'subj': 0.9}, {'text': 'rulings', 'pol': 0.5, 'subj': 0.9}, {'text': 'finding', 'pol': 0.5, 'subj': 0.9}, {'text': 'that', 'pol': 0.5, 'subj': 0.9}, {'text': 'Starbucks', 'pol': 0.5, 'subj': 0.9}, {'text': 'has', 'pol': 0.5, 'subj': 0.9}, {'text': 'violated', 'pol': 0.5, 'subj': 0.9}, {'text': 'labor', 'pol': 0.5, 'subj': 0.9}, {'text': 'law', 'pol': 0.5, 'subj': 0.9}, {'text': 'in', 'pol': 0.5, 'subj': 0.9}, {'text': 'its', 'pol': 0.5, 'subj': 0.9}, {'text': 'efforts', 'pol': 0.5, 'subj': 0.9}, {'text': 'to', 'pol': 0.5, 'subj': 0.9}, {'text': 'stop', 'pol': 0.5, 'subj': 0.9}, {'text': 'unions', 'pol': 0.5, 'subj': 0.9}, {'text': 'from', 'pol': 0.5, 'subj': 0.9}, {'text': 'forming', 'pol': 0.5, 'subj': 0.9}, {'text': 'in', 'pol': 0.5, 'subj': 0.9}, {'text': 'its', 'pol': 0.5, 'subj': 0.9}, {'text': 'coffee', 'pol': 0.5, 'subj': 0.9}, {'text': 'shops', 'pol': 0.5, 'subj': 0.9}, {'text': '.', 'pol': 0.5, 'subj': 0.9}, {'text': '\n",
      "\n",
      "', 'pol': 0.5, 'subj': 0.9}, {'text': '“', 'pol': -0.15000000000000005, 'subj': 0.325}, {'text': 'The', 'pol': -0.15000000000000005, 'subj': 0.325}, {'text': 'issue', 'pol': -0.15000000000000005, 'subj': 0.325}, {'text': 'at', 'pol': -0.15000000000000005, 'subj': 0.325}, {'text': 'the', 'pol': -0.15000000000000005, 'subj': 0.325}, {'text': 'heart', 'pol': -0.15000000000000005, 'subj': 0.325}, {'text': 'of', 'pol': -0.15000000000000005, 'subj': 0.325}, {'text': 'this', 'pol': -0.15000000000000005, 'subj': 0.325}, {'text': 'case', 'pol': -0.15000000000000005, 'subj': 0.325}, {'text': 'is', 'pol': -0.15000000000000005, 'subj': 0.325}, {'text': 'whether', 'pol': -0.15000000000000005, 'subj': 0.325}, {'text': ',', 'pol': -0.15000000000000005, 'subj': 0.325}, {'text': 'under', 'pol': -0.15000000000000005, 'subj': 0.325}, {'text': 'current', 'pol': -0.15000000000000005, 'subj': 0.325}, {'text': 'Board', 'pol': -0.15000000000000005, 'subj': 0.325}, {'text': 'law', 'pol': -0.15000000000000005, 'subj': 0.325}, {'text': ',', 'pol': -0.15000000000000005, 'subj': 0.325}, {'text': '[', 'pol': -0.15000000000000005, 'subj': 0.325}, {'text': 'Starbucks', 'pol': -0.15000000000000005, 'subj': 0.325}, {'text': ']', 'pol': -0.15000000000000005, 'subj': 0.325}, {'text': 'was', 'pol': -0.15000000000000005, 'subj': 0.325}, {'text': 'entitled', 'pol': -0.15000000000000005, 'subj': 0.325}, {'text': 'to', 'pol': -0.15000000000000005, 'subj': 0.325}, {'text': 'explicitly', 'pol': -0.15000000000000005, 'subj': 0.325}, {'text': 'reward', 'pol': -0.15000000000000005, 'subj': 0.325}, {'text': 'employees', 'pol': -0.15000000000000005, 'subj': 0.325}, {'text': ',', 'pol': -0.15000000000000005, 'subj': 0.325}, {'text': '”', 'pol': -0.15000000000000005, 'subj': 0.325}, {'text': 'for', 'pol': -0.15000000000000005, 'subj': 0.325}, {'text': 'not', 'pol': -0.15000000000000005, 'subj': 0.325}, {'text': 'participating', 'pol': -0.15000000000000005, 'subj': 0.325}, {'text': 'in', 'pol': -0.15000000000000005, 'subj': 0.325}, {'text': 'union', 'pol': -0.15000000000000005, 'subj': 0.325}, {'text': 'activity', 'pol': -0.15000000000000005, 'subj': 0.325}, {'text': ',', 'pol': -0.15000000000000005, 'subj': 0.325}, {'text': '“', 'pol': -0.15000000000000005, 'subj': 0.325}, ...]\n",
      "1                                                                                                                                                                                                                                                                                                                                                                                                                                                                                                                                                                                                                                                                                                                                                                                                                                                                                                                                                                                                                                                                                                                                                                                                                                                                                                                                                                                                                                                                   [{'text': 'The', 'pol': -0.11666666666666665, 'subj': 0.4444444444444444}, {'text': 'first', 'pol': -0.11666666666666665, 'subj': 0.4444444444444444}, {'text': 'suspect', 'pol': -0.11666666666666665, 'subj': 0.4444444444444444}, {'text': 'to', 'pol': -0.11666666666666665, 'subj': 0.4444444444444444}, {'text': 'plead', 'pol': -0.11666666666666665, 'subj': 0.4444444444444444}, {'text': 'guilty', 'pol': -0.11666666666666665, 'subj': 0.4444444444444444}, {'text': 'in', 'pol': -0.11666666666666665, 'subj': 0.4444444444444444}, {'text': 'Singapore', 'pol': -0.11666666666666665, 'subj': 0.4444444444444444}, {'text': ''s', 'pol': -0.11666666666666665, 'subj': 0.4444444444444444}, {'text': 'largest', 'pol': -0.11666666666666665, 'subj': 0.4444444444444444}, {'text': 'money', 'pol': -0.11666666666666665, 'subj': 0.4444444444444444}, {'text': 'laundering', 'pol': -0.11666666666666665, 'subj': 0.4444444444444444}, {'text': 'case', 'pol': -0.11666666666666665, 'subj': 0.4444444444444444}, {'text': 'was', 'pol': -0.11666666666666665, 'subj': 0.4444444444444444}, {'text': 'convicted', 'pol': -0.11666666666666665, 'subj': 0.4444444444444444}, {'text': 'and', 'pol': -0.11666666666666665, 'subj': 0.4444444444444444}, {'text': 'sentenced', 'pol': -0.11666666666666665, 'subj': 0.4444444444444444}, {'text': 'to', 'pol': -0.11666666666666665, 'subj': 0.4444444444444444}, {'text': '13', 'pol': -0.11666666666666665, 'subj': 0.4444444444444444}, {'text': 'months', 'pol': -0.11666666666666665, 'subj': 0.4444444444444444}, {'text': ''', 'pol': -0.11666666666666665, 'subj': 0.4444444444444444}, {'text': 'jail', 'pol': -0.11666666666666665, 'subj': 0.4444444444444444}, {'text': 'in', 'pol': -0.11666666666666665, 'subj': 0.4444444444444444}, {'text': 'a', 'pol': -0.11666666666666665, 'subj': 0.4444444444444444}, {'text': 'district', 'pol': -0.11666666666666665, 'subj': 0.4444444444444444}, {'text': 'court', 'pol': -0.11666666666666665, 'subj': 0.4444444444444444}, {'text': 'on', 'pol': -0.11666666666666665, 'subj': 0.4444444444444444}, {'text': 'Tuesday', 'pol': -0.11666666666666665, 'subj': 0.4444444444444444}, {'text': '(', 'pol': -0.11666666666666665, 'subj': 0.4444444444444444}, {'text': 'Apr', 'pol': -0.11666666666666665, 'subj': 0.4444444444444444}, {'text': '2', 'pol': -0.11666666666666665, 'subj': 0.4444444444444444}, {'text': ')', 'pol': -0.11666666666666665, 'subj': 0.4444444444444444}, {'text': '.', 'pol': -0.11666666666666665, 'subj': 0.4444444444444444}, {'text': '\n",
      "\n",
      "', 'pol': -0.11666666666666665, 'subj': 0.4444444444444444}, {'text': 'Su', 'pol': -0.3, 'subj': 0.35}, {'text': 'Wenqiang', 'pol': -0.3, 'subj': 0.35}, {'text': ',', 'pol': -0.3, 'subj': 0.35}, {'text': '32', 'pol': -0.3, 'subj': 0.35}, {'text': ',', 'pol': -0.3, 'subj': 0.35}, {'text': 'admitted', 'pol': -0.3, 'subj': 0.35}, {'text': 'to', 'pol': -0.3, 'subj': 0.35}, {'text': '11', 'pol': -0.3, 'subj': 0.35}, {'text': 'charges', 'pol': -0.3, 'subj': 0.35}, {'text': 'of', 'pol': -0.3, 'subj': 0.35}, {'text': 'money', 'pol': -0.3, 'subj': 0.35}, {'text': 'laundering', 'pol': -0.3, 'subj': 0.35}, {'text': ',', 'pol': -0.3, 'subj': 0.35}, {'text': 'possessing', 'pol': -0.3, 'subj': 0.35}, {'text': 'proceeds', 'pol': -0.3, 'subj': 0.35}, {'text': 'from', 'pol': -0.3, 'subj': 0.35}, {'text': 'illegal', 'pol': -0.3, 'subj': 0.35}, {'text': 'remote', 'pol': -0.3, 'subj': 0.35}, {'text': 'gambling', 'pol': -0.3, 'subj': 0.35}, {'text': 'offences', 'pol': -0.3, 'subj': 0.35}, {'text': 'and', 'pol': -0.3, 'subj': 0.35}, {'text': 'lying', 'pol': -0.3, 'subj': 0.35}, {'text': 'to', 'pol': -0.3, 'subj': 0.35}, {'text': 'get', 'pol': -0.3, 'subj': 0.35}, {'text': 'work', 'pol': -0.3, 'subj': 0.35}, {'text': 'passes', 'pol': -0.3, 'subj': 0.35}, {'text': 'for', 'pol': -0.3, 'subj': 0.35}, {'text': 'himself', 'pol': -0.3, 'subj': 0.35}, {'text': 'and', 'pol': -0.3, 'subj': 0.35}, {'text': 'his', 'pol': -0.3, 'subj': 0.35}, {'text': 'wife', 'pol': -0.3, 'subj': 0.35}, {'text': '.', 'pol': -0.3, 'subj': 0.35}, {'text': '\n",
      "\n",
      "', 'pol': -0.3, 'subj': 0.35}, {'text': 'More', 'pol': 0.5, 'subj': 0.5}, {'text': 'than', 'pol': 0.5, 'subj': 0.5}, {'text': 'S$3', 'pol': 0.5, 'subj': 0.5}, {'text': 'billion', 'pol': 0.5, 'subj': 0.5}, {'text': '(', 'pol': 0.5, 'subj': 0.5}, {'text': 'US$', 'pol': 0.5, 'subj': 0.5}, {'text': '2.2', 'pol': 0.5, 'subj': 0.5}, {'text': 'billion', 'pol': 0.5, 'subj': 0.5}, {'text': ')', 'pol': 0.5, 'subj': 0.5}, {'text': 'in', 'pol': 0.5, 'subj': 0.5}, {'text': 'assets', 'pol': 0.5, 'subj': 0.5}, {'text': 'have', 'pol': 0.5, 'subj': 0.5}, {'text': 'been', 'pol': 0.5, 'subj': 0.5}, {'text': 'seized', 'pol': 0.5, 'subj': 0.5}, {'text': 'or', 'pol': 0.5, 'subj': 0.5}, {'text': 'frozen', 'pol': 0.5, 'subj': 0.5}, {'text': 'in', 'pol': 0.5, 'subj': 0.5}, {'text': 'relation', 'pol': 0.5, 'subj': 0.5}, {'text': 'to', 'pol': 0.5, 'subj': 0.5}, {'text': 'the', 'pol': 0.5, 'subj': 0.5}, {'text': 'case', 'pol': 0.5, 'subj': 0.5}, {'text': '.', 'pol': 0.5, 'subj': 0.5}, {'text': 'This', 'pol': 0.0, 'subj': 1.0}, {'text': 'likely', 'pol': 0.0, 'subj': 1.0}, {'text': 'makes', 'pol': 0.0, 'subj': 1.0}, {'text': 'it', 'pol': 0.0, 'subj': 1.0}, {'text': 'one', 'pol': 0.0, 'subj': 1.0}, {'text': 'of', 'pol': 0.0, 'subj': 1.0}, {'text': 'the', 'pol': 0.0, 'subj': 1.0}, {'text': 'largest', 'pol': 0.0, 'subj': 1.0}, {'text': 'money', 'pol': 0.0, 'subj': 1.0}, {'text': 'laundering', 'pol': 0.0, 'subj': 1.0}, {'text': 'operations', 'pol': 0.0, 'subj': 1.0}, ...]\n",
      "2                                                                                                                                                                                                                                                                                                                                                                                                                                                                                                                                                                                                                                                                                                                                                                                                                                                                                                                                                                                                                                                                                                                                                                                                                                                         [{'text': 'Meta', 'pol': 0.0, 'subj': 0.15}, {'text': 'has', 'pol': 0.0, 'subj': 0.15}, {'text': 'been', 'pol': 0.0, 'subj': 0.15}, {'text': 'fined', 'pol': 0.0, 'subj': 0.15}, {'text': 'a', 'pol': 0.0, 'subj': 0.15}, {'text': 'record', 'pol': 0.0, 'subj': 0.15}, {'text': '-', 'pol': 0.0, 'subj': 0.15}, {'text': 'breaking', 'pol': 0.0, 'subj': 0.15}, {'text': '€', 'pol': 0.0, 'subj': 0.15}, {'text': '1.2', 'pol': 0.0, 'subj': 0.15}, {'text': 'billion', 'pol': 0.0, 'subj': 0.15}, {'text': '(', 'pol': 0.0, 'subj': 0.15}, {'text': '$', 'pol': 0.0, 'subj': 0.15}, {'text': '1.3', 'pol': 0.0, 'subj': 0.15}, {'text': 'billion', 'pol': 0.0, 'subj': 0.15}, {'text': ')', 'pol': 0.0, 'subj': 0.15}, {'text': 'by', 'pol': 0.0, 'subj': 0.15}, {'text': 'European', 'pol': 0.0, 'subj': 0.15}, {'text': 'Union', 'pol': 0.0, 'subj': 0.15}, {'text': 'regulators', 'pol': 0.0, 'subj': 0.15}, {'text': 'for', 'pol': 0.0, 'subj': 0.15}, {'text': 'violating', 'pol': 0.0, 'subj': 0.15}, {'text': 'EU', 'pol': 0.0, 'subj': 0.15}, {'text': 'privacy', 'pol': 0.0, 'subj': 0.15}, {'text': 'laws', 'pol': 0.0, 'subj': 0.15}, {'text': 'by', 'pol': 0.0, 'subj': 0.15}, {'text': 'transferring', 'pol': 0.0, 'subj': 0.15}, {'text': 'the', 'pol': 0.0, 'subj': 0.15}, {'text': 'personal', 'pol': 0.0, 'subj': 0.15}, {'text': 'data', 'pol': 0.0, 'subj': 0.15}, {'text': 'of', 'pol': 0.0, 'subj': 0.15}, {'text': 'Facebook', 'pol': 0.0, 'subj': 0.15}, {'text': 'users', 'pol': 0.0, 'subj': 0.15}, {'text': 'to', 'pol': 0.0, 'subj': 0.15}, {'text': 'servers', 'pol': 0.0, 'subj': 0.15}, {'text': 'in', 'pol': 0.0, 'subj': 0.15}, {'text': 'the', 'pol': 0.0, 'subj': 0.15}, {'text': 'United', 'pol': 0.0, 'subj': 0.15}, {'text': 'States', 'pol': 0.0, 'subj': 0.15}, {'text': '.', 'pol': 0.0, 'subj': 0.15}, {'text': '\n",
      "\n",
      "', 'pol': 0.0, 'subj': 0.15}, {'text': 'The', 'pol': 0.1388888888888889, 'subj': 0.16666666666666666}, {'text': 'European', 'pol': 0.1388888888888889, 'subj': 0.16666666666666666}, {'text': 'Data', 'pol': 0.1388888888888889, 'subj': 0.16666666666666666}, {'text': 'Protection', 'pol': 0.1388888888888889, 'subj': 0.16666666666666666}, {'text': 'Board', 'pol': 0.1388888888888889, 'subj': 0.16666666666666666}, {'text': 'announced', 'pol': 0.1388888888888889, 'subj': 0.16666666666666666}, {'text': 'the', 'pol': 0.1388888888888889, 'subj': 0.16666666666666666}, {'text': 'fine', 'pol': 0.1388888888888889, 'subj': 0.16666666666666666}, {'text': 'in', 'pol': 0.1388888888888889, 'subj': 0.16666666666666666}, {'text': 'a', 'pol': 0.1388888888888889, 'subj': 0.16666666666666666}, {'text': 'statement', 'pol': 0.1388888888888889, 'subj': 0.16666666666666666}, {'text': 'Monday', 'pol': 0.1388888888888889, 'subj': 0.16666666666666666}, {'text': ',', 'pol': 0.1388888888888889, 'subj': 0.16666666666666666}, {'text': 'saying', 'pol': 0.1388888888888889, 'subj': 0.16666666666666666}, {'text': 'it', 'pol': 0.1388888888888889, 'subj': 0.16666666666666666}, {'text': 'followed', 'pol': 0.1388888888888889, 'subj': 0.16666666666666666}, {'text': 'an', 'pol': 0.1388888888888889, 'subj': 0.16666666666666666}, {'text': 'inquiry', 'pol': 0.1388888888888889, 'subj': 0.16666666666666666}, {'text': 'into', 'pol': 0.1388888888888889, 'subj': 0.16666666666666666}, {'text': 'Facebook', 'pol': 0.1388888888888889, 'subj': 0.16666666666666666}, {'text': '(', 'pol': 0.1388888888888889, 'subj': 0.16666666666666666}, {'text': 'FB', 'pol': 0.1388888888888889, 'subj': 0.16666666666666666}, {'text': ')', 'pol': 0.1388888888888889, 'subj': 0.16666666666666666}, {'text': 'by', 'pol': 0.1388888888888889, 'subj': 0.16666666666666666}, {'text': 'the', 'pol': 0.1388888888888889, 'subj': 0.16666666666666666}, {'text': 'Irish', 'pol': 0.1388888888888889, 'subj': 0.16666666666666666}, {'text': 'Data', 'pol': 0.1388888888888889, 'subj': 0.16666666666666666}, {'text': 'Protection', 'pol': 0.1388888888888889, 'subj': 0.16666666666666666}, {'text': 'Commission', 'pol': 0.1388888888888889, 'subj': 0.16666666666666666}, {'text': ',', 'pol': 0.1388888888888889, 'subj': 0.16666666666666666}, {'text': 'the', 'pol': 0.1388888888888889, 'subj': 0.16666666666666666}, {'text': 'chief', 'pol': 0.1388888888888889, 'subj': 0.16666666666666666}, {'text': 'regulator', 'pol': 0.1388888888888889, 'subj': 0.16666666666666666}, {'text': 'overseeing', 'pol': 0.1388888888888889, 'subj': 0.16666666666666666}, {'text': 'Meta', 'pol': 0.1388888888888889, 'subj': 0.16666666666666666}, {'text': '’s', 'pol': 0.1388888888888889, 'subj': 0.16666666666666666}, {'text': 'operations', 'pol': 0.1388888888888889, 'subj': 0.16666666666666666}, {'text': 'in', 'pol': 0.1388888888888889, 'subj': 0.16666666666666666}, {'text': 'Europe', 'pol': 0.1388888888888889, 'subj': 0.16666666666666666}, {'text': '.', 'pol': 0.1388888888888889, 'subj': 0.16666666666666666}, {'text': '\n",
      "\n",
      "', 'pol': 0.1388888888888889, 'subj': 0.16666666666666666}, {'text': 'The', 'pol': 0.1, 'subj': 0.1}, {'text': 'move', 'pol': 0.1, 'subj': 0.1}, {'text': 'highlights', 'pol': 0.1, 'subj': 0.1}, {'text': 'ongoing', 'pol': 0.1, 'subj': 0.1}, {'text': 'uncertainty', 'pol': 0.1, 'subj': 0.1}, {'text': 'about', 'pol': 0.1, 'subj': 0.1}, {'text': 'how', 'pol': 0.1, 'subj': 0.1}, {'text': 'global', 'pol': 0.1, 'subj': 0.1}, {'text': 'businesses', 'pol': 0.1, 'subj': 0.1}, {'text': 'may', 'pol': 0.1, 'subj': 0.1}, {'text': 'legally', 'pol': 0.1, 'subj': 0.1}, {'text': 'transfer', 'pol': 0.1, 'subj': 0.1}, {'text': 'EU', 'pol': 0.1, 'subj': 0.1}, {'text': 'users', 'pol': 0.1, 'subj': 0.1}, {'text': '’', 'pol': 0.1, 'subj': 0.1}, {'text': 'data', 'pol': 0.1, 'subj': 0.1}, {'text': 'to', 'pol': 0.1, 'subj': 0.1}, {'text': 'servers', 'pol': 0.1, 'subj': 0.1}, ...]\n",
      "3                                                                                                                                                                                                                                                                                                                                                                                                                                                                                                                                                                                                                                                                                                                                                                                                                                                                                                                                                                                                                                                                                                                                                                                                                                                                                                                                                                                                                                                                                                                                                                                                                                                                                                                                                                                                                                                                                                                                                                                                                                                                                                                                                                                                               [{'text': 'SINGAPORE', 'pol': 0.0, 'subj': 0.0}, {'text': ':', 'pol': 0.0, 'subj': 0.0}, {'text': 'A', 'pol': -0.1, 'subj': 0.0}, {'text': '45', 'pol': -0.1, 'subj': 0.0}, {'text': '-', 'pol': -0.1, 'subj': 0.0}, {'text': 'year', 'pol': -0.1, 'subj': 0.0}, {'text': '-', 'pol': -0.1, 'subj': 0.0}, {'text': 'old', 'pol': -0.1, 'subj': 0.0}, {'text': 'man', 'pol': -0.1, 'subj': 0.0}, {'text': 'linked', 'pol': -0.1, 'subj': 0.0}, {'text': 'to', 'pol': -0.1, 'subj': 0.0}, {'text': 'Singapore', 'pol': -0.1, 'subj': 0.0}, {'text': '’s', 'pol': -0.1, 'subj': 0.0}, {'text': 'largest', 'pol': -0.1, 'subj': 0.0}, {'text': 'money', 'pol': -0.1, 'subj': 0.0}, {'text': 'laundering', 'pol': -0.1, 'subj': 0.0}, {'text': 'case', 'pol': -0.1, 'subj': 0.0}, {'text': 'was', 'pol': -0.1, 'subj': 0.0}, {'text': 'sentenced', 'pol': -0.1, 'subj': 0.0}, {'text': 'to', 'pol': -0.1, 'subj': 0.0}, {'text': '15', 'pol': -0.1, 'subj': 0.0}, {'text': 'months', 'pol': -0.1, 'subj': 0.0}, {'text': ''', 'pol': -0.1, 'subj': 0.0}, {'text': 'jail', 'pol': -0.1, 'subj': 0.0}, {'text': 'on', 'pol': -0.1, 'subj': 0.0}, {'text': 'Tuesday', 'pol': -0.1, 'subj': 0.0}, {'text': '(', 'pol': -0.1, 'subj': 0.0}, {'text': 'Apr', 'pol': -0.1, 'subj': 0.0}, {'text': '30', 'pol': -0.1, 'subj': 0.0}, {'text': ')', 'pol': -0.1, 'subj': 0.0}, {'text': '.', 'pol': -0.1, 'subj': 0.0}, {'text': '\n",
      "\n",
      "', 'pol': -0.1, 'subj': 0.0}, {'text': 'Zhang', 'pol': 0.0, 'subj': 0.0}, {'text': 'Ruijin', 'pol': 0.0, 'subj': 0.0}, {'text': 'was', 'pol': 0.0, 'subj': 0.0}, {'text': 'also', 'pol': 0.0, 'subj': 0.0}, {'text': 'ordered', 'pol': 0.0, 'subj': 0.0}, {'text': 'to', 'pol': 0.0, 'subj': 0.0}, {'text': 'forfeit', 'pol': 0.0, 'subj': 0.0}, {'text': 'around', 'pol': 0.0, 'subj': 0.0}, {'text': 'S$118', 'pol': 0.0, 'subj': 0.0}, {'text': 'million', 'pol': 0.0, 'subj': 0.0}, {'text': 'of', 'pol': 0.0, 'subj': 0.0}, {'text': 'his', 'pol': 0.0, 'subj': 0.0}, {'text': 'assets', 'pol': 0.0, 'subj': 0.0}, {'text': 'to', 'pol': 0.0, 'subj': 0.0}, {'text': 'the', 'pol': 0.0, 'subj': 0.0}, {'text': 'state', 'pol': 0.0, 'subj': 0.0}, {'text': '.', 'pol': 0.0, 'subj': 0.0}, {'text': 'This', 'pol': 0.3375, 'subj': 0.425}, {'text': 'amounts', 'pol': 0.3375, 'subj': 0.425}, {'text': 'to', 'pol': 0.3375, 'subj': 0.425}, {'text': 'about', 'pol': 0.3375, 'subj': 0.425}, {'text': '90', 'pol': 0.3375, 'subj': 0.425}, {'text': 'per', 'pol': 0.3375, 'subj': 0.425}, {'text': 'cent', 'pol': 0.3375, 'subj': 0.425}, {'text': 'of', 'pol': 0.3375, 'subj': 0.425}, {'text': 'the', 'pol': 0.3375, 'subj': 0.425}, {'text': 'S$131', 'pol': 0.3375, 'subj': 0.425}, {'text': 'million', 'pol': 0.3375, 'subj': 0.425}, {'text': 'worth', 'pol': 0.3375, 'subj': 0.425}, {'text': 'of', 'pol': 0.3375, 'subj': 0.425}, {'text': 'assets', 'pol': 0.3375, 'subj': 0.425}, {'text': 'originally', 'pol': 0.3375, 'subj': 0.425}, {'text': 'seized', 'pol': 0.3375, 'subj': 0.425}, {'text': 'by', 'pol': 0.3375, 'subj': 0.425}, {'text': 'the', 'pol': 0.3375, 'subj': 0.425}, {'text': 'police', 'pol': 0.3375, 'subj': 0.425}, {'text': '.', 'pol': 0.3375, 'subj': 0.425}, {'text': '\n",
      "\n",
      "', 'pol': 0.3375, 'subj': 0.425}, {'text': 'He', 'pol': 0.0, 'subj': 0.0}, {'text': 'is', 'pol': 0.0, 'subj': 0.0}, {'text': 'the', 'pol': 0.0, 'subj': 0.0}, {'text': 'fifth', 'pol': 0.0, 'subj': 0.0}, {'text': 'of', 'pol': 0.0, 'subj': 0.0}, {'text': '10', 'pol': 0.0, 'subj': 0.0}, {'text': 'accused', 'pol': 0.0, 'subj': 0.0}, {'text': 'persons', 'pol': 0.0, 'subj': 0.0}, {'text': 'to', 'pol': 0.0, 'subj': 0.0}, {'text': 'be', 'pol': 0.0, 'subj': 0.0}, {'text': 'dealt', 'pol': 0.0, 'subj': 0.0}, {'text': 'with', 'pol': 0.0, 'subj': 0.0}, {'text': 'in', 'pol': 0.0, 'subj': 0.0}, {'text': 'relation', 'pol': 0.0, 'subj': 0.0}, {'text': 'to', 'pol': 0.0, 'subj': 0.0}, {'text': 'the', 'pol': 0.0, 'subj': 0.0}, {'text': 'case', 'pol': 0.0, 'subj': 0.0}, {'text': '.', 'pol': 0.0, 'subj': 0.0}, {'text': '\n",
      "\n",
      "', 'pol': 0.0, 'subj': 0.0}, {'text': 'Zhang', 'pol': -0.2333333333333333, 'subj': 0.7166666666666668}, {'text': 'pleaded', 'pol': -0.2333333333333333, 'subj': 0.7166666666666668}, {'text': 'guilty', 'pol': -0.2333333333333333, 'subj': 0.7166666666666668}, {'text': 'on', 'pol': -0.2333333333333333, 'subj': 0.7166666666666668}, {'text': 'Tuesday', 'pol': -0.2333333333333333, 'subj': 0.7166666666666668}, {'text': 'to', 'pol': -0.2333333333333333, 'subj': 0.7166666666666668}, {'text': 'two', 'pol': -0.2333333333333333, 'subj': 0.7166666666666668}, {'text': 'counts', 'pol': -0.2333333333333333, 'subj': 0.7166666666666668}, {'text': 'of', 'pol': -0.2333333333333333, 'subj': 0.7166666666666668}, {'text': 'forgery', 'pol': -0.2333333333333333, 'subj': 0.7166666666666668}, {'text': '-', 'pol': -0.2333333333333333, 'subj': 0.7166666666666668}, ...]\n",
      "4                                                                                                                                                                                                                                                                                                                                                                                                                                                                                                                                                                                                                                                                                                                                                                                                                                                                                                                                                                                                                                                                                                                                                                                                                                                                                                                                                                                                                                                                         [{'text': 'The', 'pol': 0.20833333333333334, 'subj': 0.25}, {'text': 'Department', 'pol': 0.20833333333333334, 'subj': 0.25}, {'text': 'of', 'pol': 0.20833333333333334, 'subj': 0.25}, {'text': 'Education', 'pol': 0.20833333333333334, 'subj': 0.25}, {'text': 'imposed', 'pol': 0.20833333333333334, 'subj': 0.25}, {'text': 'a', 'pol': 0.20833333333333334, 'subj': 0.25}, {'text': 'record', 'pol': 0.20833333333333334, 'subj': 0.25}, {'text': '$', 'pol': 0.20833333333333334, 'subj': 0.25}, {'text': '14', 'pol': 0.20833333333333334, 'subj': 0.25}, {'text': 'million', 'pol': 0.20833333333333334, 'subj': 0.25}, {'text': 'fine', 'pol': 0.20833333333333334, 'subj': 0.25}, {'text': 'on', 'pol': 0.20833333333333334, 'subj': 0.25}, {'text': 'Liberty', 'pol': 0.20833333333333334, 'subj': 0.25}, {'text': 'University', 'pol': 0.20833333333333334, 'subj': 0.25}, {'text': ',', 'pol': 0.20833333333333334, 'subj': 0.25}, {'text': 'a', 'pol': 0.20833333333333334, 'subj': 0.25}, {'text': 'Christian', 'pol': 0.20833333333333334, 'subj': 0.25}, {'text': 'college', 'pol': 0.20833333333333334, 'subj': 0.25}, {'text': 'located', 'pol': 0.20833333333333334, 'subj': 0.25}, {'text': 'in', 'pol': 0.20833333333333334, 'subj': 0.25}, {'text': 'Virginia', 'pol': 0.20833333333333334, 'subj': 0.25}, {'text': ',', 'pol': 0.20833333333333334, 'subj': 0.25}, {'text': 'over', 'pol': 0.20833333333333334, 'subj': 0.25}, {'text': 'violations', 'pol': 0.20833333333333334, 'subj': 0.25}, {'text': 'of', 'pol': 0.20833333333333334, 'subj': 0.25}, {'text': 'a', 'pol': 0.20833333333333334, 'subj': 0.25}, {'text': 'campus', 'pol': 0.20833333333333334, 'subj': 0.25}, {'text': 'safety', 'pol': 0.20833333333333334, 'subj': 0.25}, {'text': 'law', 'pol': 0.20833333333333334, 'subj': 0.25}, {'text': ',', 'pol': 0.20833333333333334, 'subj': 0.25}, {'text': 'officials', 'pol': 0.20833333333333334, 'subj': 0.25}, {'text': 'said', 'pol': 0.20833333333333334, 'subj': 0.25}, {'text': 'Tuesday', 'pol': 0.20833333333333334, 'subj': 0.25}, {'text': '.', 'pol': 0.20833333333333334, 'subj': 0.25}, {'text': '\n",
      "\n",
      "', 'pol': 0.20833333333333334, 'subj': 0.25}, {'text': 'The', 'pol': 0.4166666666666667, 'subj': 0.5}, {'text': 'Department', 'pol': 0.4166666666666667, 'subj': 0.5}, {'text': 'of', 'pol': 0.4166666666666667, 'subj': 0.5}, {'text': 'Education', 'pol': 0.4166666666666667, 'subj': 0.5}, {'text': 'said', 'pol': 0.4166666666666667, 'subj': 0.5}, {'text': 'it', 'pol': 0.4166666666666667, 'subj': 0.5}, {'text': 'was', 'pol': 0.4166666666666667, 'subj': 0.5}, {'text': 'the', 'pol': 0.4166666666666667, 'subj': 0.5}, {'text': 'largest', 'pol': 0.4166666666666667, 'subj': 0.5}, {'text': 'fine', 'pol': 0.4166666666666667, 'subj': 0.5}, {'text': 'ever', 'pol': 0.4166666666666667, 'subj': 0.5}, {'text': 'imposed', 'pol': 0.4166666666666667, 'subj': 0.5}, {'text': 'for', 'pol': 0.4166666666666667, 'subj': 0.5}, {'text': 'violating', 'pol': 0.4166666666666667, 'subj': 0.5}, {'text': 'the', 'pol': 0.4166666666666667, 'subj': 0.5}, {'text': 'Clery', 'pol': 0.4166666666666667, 'subj': 0.5}, {'text': 'Act', 'pol': 0.4166666666666667, 'subj': 0.5}, {'text': ',', 'pol': 0.4166666666666667, 'subj': 0.5}, {'text': 'which', 'pol': 0.4166666666666667, 'subj': 0.5}, {'text': 'requires', 'pol': 0.4166666666666667, 'subj': 0.5}, {'text': 'colleges', 'pol': 0.4166666666666667, 'subj': 0.5}, {'text': 'to', 'pol': 0.4166666666666667, 'subj': 0.5}, {'text': 'maintain', 'pol': 0.4166666666666667, 'subj': 0.5}, {'text': 'and', 'pol': 0.4166666666666667, 'subj': 0.5}, {'text': 'disclose', 'pol': 0.4166666666666667, 'subj': 0.5}, {'text': 'campus', 'pol': 0.4166666666666667, 'subj': 0.5}, {'text': 'crime', 'pol': 0.4166666666666667, 'subj': 0.5}, {'text': 'statistics', 'pol': 0.4166666666666667, 'subj': 0.5}, {'text': 'and', 'pol': 0.4166666666666667, 'subj': 0.5}, {'text': 'security', 'pol': 0.4166666666666667, 'subj': 0.5}, {'text': 'information', 'pol': 0.4166666666666667, 'subj': 0.5}, {'text': '.', 'pol': 0.4166666666666667, 'subj': 0.5}, {'text': '\n",
      "\n",
      "', 'pol': 0.4166666666666667, 'subj': 0.5}, {'text': 'Liberty', 'pol': 0.0, 'subj': 0.0}, {'text': 'University', 'pol': 0.0, 'subj': 0.0}, {'text': 'also', 'pol': 0.0, 'subj': 0.0}, {'text': 'agreed', 'pol': 0.0, 'subj': 0.0}, {'text': 'to', 'pol': 0.0, 'subj': 0.0}, {'text': 'spend', 'pol': 0.0, 'subj': 0.0}, {'text': 'an', 'pol': 0.0, 'subj': 0.0}, {'text': 'additional', 'pol': 0.0, 'subj': 0.0}, {'text': '$', 'pol': 0.0, 'subj': 0.0}, {'text': '2', 'pol': 0.0, 'subj': 0.0}, {'text': 'million', 'pol': 0.0, 'subj': 0.0}, {'text': 'to', 'pol': 0.0, 'subj': 0.0}, {'text': 'improve', 'pol': 0.0, 'subj': 0.0}, {'text': 'on', 'pol': 0.0, 'subj': 0.0}, {'text': '-', 'pol': 0.0, 'subj': 0.0}, {'text': 'campus', 'pol': 0.0, 'subj': 0.0}, {'text': 'safety', 'pol': 0.0, 'subj': 0.0}, {'text': 'over', 'pol': 0.0, 'subj': 0.0}, {'text': 'the', 'pol': 0.0, 'subj': 0.0}, {'text': 'next', 'pol': 0.0, 'subj': 0.0}, {'text': 'two', 'pol': 0.0, 'subj': 0.0}, {'text': 'years', 'pol': 0.0, 'subj': 0.0}, {'text': '.', 'pol': 0.0, 'subj': 0.0}, {'text': '\n",
      "\n",
      "', 'pol': 0.0, 'subj': 0.0}, {'text': 'The', 'pol': -0.1, 'subj': 0.1}, {'text': 'Department', 'pol': -0.1, 'subj': 0.1}, {'text': 'of', 'pol': -0.1, 'subj': 0.1}, {'text': 'Education', 'pol': -0.1, 'subj': 0.1}, {'text': 'initiated', 'pol': -0.1, 'subj': 0.1}, {'text': 'the', 'pol': -0.1, 'subj': 0.1}, {'text': 'review', 'pol': -0.1, 'subj': 0.1}, {'text': 'in', 'pol': -0.1, 'subj': 0.1}, ...]\n",
      "                                                                                                                                                                                                                                                                                                                                                                                                                                                                                                                                                                                                                                                                                                                                                                                                                                                                                                                                                                                                                                                                                                                                                                                                                                                                                                                                                                                                                                                                                                                                                                                                                                                                                                                                                                                                                                                                                                                                                                                                                                                                                                                                                                                                                                                                                                                                                                                                                                                                                                                                                                                                                                                                                                                                                                                                                                                                                                                                                                                                                                                                                                                                                                                                                                                                                                                                                                                                                                                                                                                                                                                           ...                                                                                                                                                                                                                                                                                                                                                                                                                                                                                                                                                                                                                                                                                                                                                                                                                                                                                                                                                                                                                                                                                                                                                                                                                                                                                                                                                                                                                                                                                                                                                                                                                                                                                                                                                                                                                                                                                                                                                                                                                                                                                                                                                                                                                                                                                                                                                                                                                                                                                                                                                                                                                                                                                                                                                                                                                                                                                                                                                                                                                                                                                                                                                                                                                                                                                                                                                                                                                                                                                                                                                                                     \n",
      "1504    [{'text': 'NOT', 'pol': -0.14583333333333334, 'subj': 0.2708333333333333}, {'text': 'A', 'pol': -0.14583333333333334, 'subj': 0.2708333333333333}, {'text': 'SURPRISE', 'pol': -0.14583333333333334, 'subj': 0.2708333333333333}, {'text': 'FOR', 'pol': -0.14583333333333334, 'subj': 0.2708333333333333}, {'text': 'INDUSTRY', 'pol': -0.14583333333333334, 'subj': 0.2708333333333333}, {'text': 'FOLLOWERS', 'pol': -0.14583333333333334, 'subj': 0.2708333333333333}, {'text': '\n",
      "\n",
      "', 'pol': -0.14583333333333334, 'subj': 0.2708333333333333}, {'text': 'It', 'pol': -0.14583333333333334, 'subj': 0.2708333333333333}, {'text': 'is', 'pol': -0.14583333333333334, 'subj': 0.2708333333333333}, {'text': 'hard', 'pol': -0.14583333333333334, 'subj': 0.2708333333333333}, {'text': 'to', 'pol': -0.14583333333333334, 'subj': 0.2708333333333333}, {'text': 'imagine', 'pol': -0.14583333333333334, 'subj': 0.2708333333333333}, {'text': 'how', 'pol': -0.14583333333333334, 'subj': 0.2708333333333333}, {'text': 'regulators', 'pol': -0.14583333333333334, 'subj': 0.2708333333333333}, {'text': 'did', 'pol': -0.14583333333333334, 'subj': 0.2708333333333333}, {'text': 'not', 'pol': -0.14583333333333334, 'subj': 0.2708333333333333}, {'text': 'realise', 'pol': -0.14583333333333334, 'subj': 0.2708333333333333}, {'text': 'MYAirline', 'pol': -0.14583333333333334, 'subj': 0.2708333333333333}, {'text': 'was', 'pol': -0.14583333333333334, 'subj': 0.2708333333333333}, {'text': 'in', 'pol': -0.14583333333333334, 'subj': 0.2708333333333333}, {'text': 'financial', 'pol': -0.14583333333333334, 'subj': 0.2708333333333333}, {'text': 'distress', 'pol': -0.14583333333333334, 'subj': 0.2708333333333333}, {'text': '.', 'pol': -0.14583333333333334, 'subj': 0.2708333333333333}, {'text': '\n",
      "\n",
      "', 'pol': -0.14583333333333334, 'subj': 0.2708333333333333}, {'text': 'In', 'pol': 0.26, 'subj': 0.42777777777777776}, {'text': 'Malaysia', 'pol': 0.26, 'subj': 0.42777777777777776}, {'text': ',', 'pol': 0.26, 'subj': 0.42777777777777776}, {'text': 'the', 'pol': 0.26, 'subj': 0.42777777777777776}, {'text': 'Malaysia', 'pol': 0.26, 'subj': 0.42777777777777776}, {'text': 'Aviation', 'pol': 0.26, 'subj': 0.42777777777777776}, {'text': 'Commission', 'pol': 0.26, 'subj': 0.42777777777777776}, {'text': '(', 'pol': 0.26, 'subj': 0.42777777777777776}, {'text': 'Mavcom', 'pol': 0.26, 'subj': 0.42777777777777776}, {'text': ')', 'pol': 0.26, 'subj': 0.42777777777777776}, {'text': 'regulates', 'pol': 0.26, 'subj': 0.42777777777777776}, {'text': 'economic', 'pol': 0.26, 'subj': 0.42777777777777776}, {'text': 'matters', 'pol': 0.26, 'subj': 0.42777777777777776}, {'text': 'and', 'pol': 0.26, 'subj': 0.42777777777777776}, {'text': 'ensures', 'pol': 0.26, 'subj': 0.42777777777777776}, {'text': 'airlines', 'pol': 0.26, 'subj': 0.42777777777777776}, {'text': 'are', 'pol': 0.26, 'subj': 0.42777777777777776}, {'text': 'financially', 'pol': 0.26, 'subj': 0.42777777777777776}, {'text': 'fit', 'pol': 0.26, 'subj': 0.42777777777777776}, {'text': 'while', 'pol': 0.26, 'subj': 0.42777777777777776}, {'text': 'the', 'pol': 0.26, 'subj': 0.42777777777777776}, {'text': 'Civil', 'pol': 0.26, 'subj': 0.42777777777777776}, {'text': 'Aviation', 'pol': 0.26, 'subj': 0.42777777777777776}, {'text': 'Authority', 'pol': 0.26, 'subj': 0.42777777777777776}, {'text': 'of', 'pol': 0.26, 'subj': 0.42777777777777776}, {'text': 'Malaysia', 'pol': 0.26, 'subj': 0.42777777777777776}, {'text': '(', 'pol': 0.26, 'subj': 0.42777777777777776}, {'text': 'CAAM', 'pol': 0.26, 'subj': 0.42777777777777776}, {'text': ')', 'pol': 0.26, 'subj': 0.42777777777777776}, {'text': 'is', 'pol': 0.26, 'subj': 0.42777777777777776}, {'text': 'responsible', 'pol': 0.26, 'subj': 0.42777777777777776}, {'text': 'for', 'pol': 0.26, 'subj': 0.42777777777777776}, {'text': 'making', 'pol': 0.26, 'subj': 0.42777777777777776}, {'text': 'sure', 'pol': 0.26, 'subj': 0.42777777777777776}, {'text': 'an', 'pol': 0.26, 'subj': 0.42777777777777776}, {'text': 'airline', 'pol': 0.26, 'subj': 0.42777777777777776}, {'text': 'meets', 'pol': 0.26, 'subj': 0.42777777777777776}, {'text': 'technical', 'pol': 0.26, 'subj': 0.42777777777777776}, {'text': 'requirements', 'pol': 0.26, 'subj': 0.42777777777777776}, {'text': ',', 'pol': 0.26, 'subj': 0.42777777777777776}, {'text': 'including', 'pol': 0.26, 'subj': 0.42777777777777776}, {'text': 'safety', 'pol': 0.26, 'subj': 0.42777777777777776}, {'text': '.', 'pol': 0.26, 'subj': 0.42777777777777776}, {'text': '\n",
      "\n",
      "', 'pol': 0.26, 'subj': 0.42777777777777776}, {'text': 'While', 'pol': 0.0861111111111111, 'subj': 0.44337606837606836}, {'text': 'it', 'pol': 0.0861111111111111, 'subj': 0.44337606837606836}, {'text': 'is', 'pol': 0.0861111111111111, 'subj': 0.44337606837606836}, {'text': 'not', 'pol': 0.0861111111111111, 'subj': 0.44337606837606836}, {'text': 'unusual', 'pol': 0.0861111111111111, 'subj': 0.44337606837606836}, {'text': 'for', 'pol': 0.0861111111111111, 'subj': 0.44337606837606836}, {'text': 'an', 'pol': 0.0861111111111111, 'subj': 0.44337606837606836}, {'text': 'airline', 'pol': 0.0861111111111111, 'subj': 0.44337606837606836}, {'text': 'to', 'pol': 0.0861111111111111, 'subj': 0.44337606837606836}, {'text': 'cease', 'pol': 0.0861111111111111, 'subj': 0.44337606837606836}, {'text': 'operations', 'pol': 0.0861111111111111, 'subj': 0.44337606837606836}, {'text': ',', 'pol': 0.0861111111111111, 'subj': 0.44337606837606836}, {'text': 'particularly', 'pol': 0.0861111111111111, 'subj': 0.44337606837606836}, {'text': 'a', 'pol': 0.0861111111111111, 'subj': 0.44337606837606836}, {'text': 'start', 'pol': 0.0861111111111111, 'subj': 0.44337606837606836}, {'text': '-', 'pol': 0.0861111111111111, 'subj': 0.44337606837606836}, {'text': 'up', 'pol': 0.0861111111111111, 'subj': 0.44337606837606836}, {'text': 'airline', 'pol': 0.0861111111111111, 'subj': 0.44337606837606836}, {'text': ',', 'pol': 0.0861111111111111, 'subj': 0.44337606837606836}, {'text': 'it', 'pol': 0.0861111111111111, 'subj': 0.44337606837606836}, {'text': 'is', 'pol': 0.0861111111111111, 'subj': 0.44337606837606836}, {'text': 'unusual', 'pol': 0.0861111111111111, 'subj': 0.44337606837606836}, {'text': 'for', 'pol': 0.0861111111111111, 'subj': 0.44337606837606836}, {'text': 'regulators', 'pol': 0.0861111111111111, 'subj': 0.44337606837606836}, {'text': 'not', 'pol': 0.0861111111111111, 'subj': 0.44337606837606836}, {'text': 'to', 'pol': 0.0861111111111111, 'subj': 0.44337606837606836}, {'text': 'be', 'pol': 0.0861111111111111, 'subj': 0.44337606837606836}, {'text': 'aware', 'pol': 0.0861111111111111, 'subj': 0.44337606837606836}, {'text': 'of', 'pol': 0.0861111111111111, 'subj': 0.44337606837606836}, {'text': 'airlines', 'pol': 0.0861111111111111, 'subj': 0.44337606837606836}, {'text': '’', 'pol': 0.0861111111111111, 'subj': 0.44337606837606836}, {'text': 'financial', 'pol': 0.0861111111111111, 'subj': 0.44337606837606836}, ...]\n",
      "1505                                                                                                                                                                                                                                                                                                                                                                                                                                                                                                                                                                                                                                                                                                                                                                                                                                                                                                                                                                                                                                                                                                                                                                                                                                                                                                                                                                                     [{'text': 'Ahead', 'pol': 0.0, 'subj': 0.1}, {'text': 'of', 'pol': 0.0, 'subj': 0.1}, {'text': 'the', 'pol': 0.0, 'subj': 0.1}, {'text': 'Tokyo', 'pol': 0.0, 'subj': 0.1}, {'text': '2020', 'pol': 0.0, 'subj': 0.1}, {'text': 'Olympics', 'pol': 0.0, 'subj': 0.1}, {'text': ',', 'pol': 0.0, 'subj': 0.1}, {'text': 'Japan', 'pol': 0.0, 'subj': 0.1}, {'text': 'prohibited', 'pol': 0.0, 'subj': 0.1}, {'text': 'the', 'pol': 0.0, 'subj': 0.1}, {'text': 'unauthorised', 'pol': 0.0, 'subj': 0.1}, {'text': 'resale', 'pol': 0.0, 'subj': 0.1}, {'text': 'of', 'pol': 0.0, 'subj': 0.1}, {'text': 'event', 'pol': 0.0, 'subj': 0.1}, {'text': 'tickets', 'pol': 0.0, 'subj': 0.1}, {'text': 'above', 'pol': 0.0, 'subj': 0.1}, {'text': 'their', 'pol': 0.0, 'subj': 0.1}, {'text': 'sale', 'pol': 0.0, 'subj': 0.1}, {'text': 'price', 'pol': 0.0, 'subj': 0.1}, {'text': '.', 'pol': 0.0, 'subj': 0.1}, {'text': 'The', 'pol': 0.4166666666666667, 'subj': 0.5}, {'text': 'punishment', 'pol': 0.4166666666666667, 'subj': 0.5}, {'text': 'was', 'pol': 0.4166666666666667, 'subj': 0.5}, {'text': 'up', 'pol': 0.4166666666666667, 'subj': 0.5}, {'text': 'to', 'pol': 0.4166666666666667, 'subj': 0.5}, {'text': 'one', 'pol': 0.4166666666666667, 'subj': 0.5}, {'text': 'year', 'pol': 0.4166666666666667, 'subj': 0.5}, {'text': '’s', 'pol': 0.4166666666666667, 'subj': 0.5}, {'text': 'imprisonment', 'pol': 0.4166666666666667, 'subj': 0.5}, {'text': ',', 'pol': 0.4166666666666667, 'subj': 0.5}, {'text': 'a', 'pol': 0.4166666666666667, 'subj': 0.5}, {'text': 'fine', 'pol': 0.4166666666666667, 'subj': 0.5}, {'text': 'of', 'pol': 0.4166666666666667, 'subj': 0.5}, {'text': 'up', 'pol': 0.4166666666666667, 'subj': 0.5}, {'text': 'to', 'pol': 0.4166666666666667, 'subj': 0.5}, {'text': '¥', 'pol': 0.4166666666666667, 'subj': 0.5}, {'text': '1', 'pol': 0.4166666666666667, 'subj': 0.5}, {'text': 'million', 'pol': 0.4166666666666667, 'subj': 0.5}, {'text': '(', 'pol': 0.4166666666666667, 'subj': 0.5}, {'text': 'S$10,200', 'pol': 0.4166666666666667, 'subj': 0.5}, {'text': ')', 'pol': 0.4166666666666667, 'subj': 0.5}, {'text': ',', 'pol': 0.4166666666666667, 'subj': 0.5}, {'text': 'or', 'pol': 0.4166666666666667, 'subj': 0.5}, {'text': 'both', 'pol': 0.4166666666666667, 'subj': 0.5}, {'text': '.', 'pol': 0.4166666666666667, 'subj': 0.5}, {'text': '\n",
      "\n",
      "', 'pol': 0.4166666666666667, 'subj': 0.5}, {'text': 'In', 'pol': 0.25284090909090906, 'subj': 0.45113636363636367}, {'text': 'Australia', 'pol': 0.25284090909090906, 'subj': 0.45113636363636367}, {'text': '’s', 'pol': 0.25284090909090906, 'subj': 0.45113636363636367}, {'text': 'New', 'pol': 0.25284090909090906, 'subj': 0.45113636363636367}, {'text': 'South', 'pol': 0.25284090909090906, 'subj': 0.45113636363636367}, {'text': 'Wales', 'pol': 0.25284090909090906, 'subj': 0.45113636363636367}, {'text': ',', 'pol': 0.25284090909090906, 'subj': 0.45113636363636367}, {'text': 'it', 'pol': 0.25284090909090906, 'subj': 0.45113636363636367}, {'text': 'is', 'pol': 0.25284090909090906, 'subj': 0.45113636363636367}, {'text': 'an', 'pol': 0.25284090909090906, 'subj': 0.45113636363636367}, {'text': 'offence', 'pol': 0.25284090909090906, 'subj': 0.45113636363636367}, {'text': 'to', 'pol': 0.25284090909090906, 'subj': 0.45113636363636367}, {'text': 'resell', 'pol': 0.25284090909090906, 'subj': 0.45113636363636367}, {'text': 'a', 'pol': 0.25284090909090906, 'subj': 0.45113636363636367}, {'text': 'ticket', 'pol': 0.25284090909090906, 'subj': 0.45113636363636367}, {'text': 'at', 'pol': 0.25284090909090906, 'subj': 0.45113636363636367}, {'text': 'more', 'pol': 0.25284090909090906, 'subj': 0.45113636363636367}, {'text': 'than', 'pol': 0.25284090909090906, 'subj': 0.45113636363636367}, {'text': '10', 'pol': 0.25284090909090906, 'subj': 0.45113636363636367}, {'text': 'per', 'pol': 0.25284090909090906, 'subj': 0.45113636363636367}, {'text': 'cent', 'pol': 0.25284090909090906, 'subj': 0.45113636363636367}, {'text': 'above', 'pol': 0.25284090909090906, 'subj': 0.45113636363636367}, {'text': 'its', 'pol': 0.25284090909090906, 'subj': 0.45113636363636367}, {'text': 'original', 'pol': 0.25284090909090906, 'subj': 0.45113636363636367}, {'text': 'face', 'pol': 0.25284090909090906, 'subj': 0.45113636363636367}, {'text': 'value', 'pol': 0.25284090909090906, 'subj': 0.45113636363636367}, {'text': '.', 'pol': 0.25284090909090906, 'subj': 0.45113636363636367}, {'text': 'A', 'pol': 0.0, 'subj': 0.4}, {'text': 'similar', 'pol': 0.0, 'subj': 0.4}, {'text': 'rule', 'pol': 0.0, 'subj': 0.4}, {'text': 'is', 'pol': 0.0, 'subj': 0.4}, {'text': 'in', 'pol': 0.0, 'subj': 0.4}, {'text': 'place', 'pol': 0.0, 'subj': 0.4}, {'text': 'in', 'pol': 0.0, 'subj': 0.4}, {'text': 'Victoria', 'pol': 0.0, 'subj': 0.4}, {'text': ',', 'pol': 0.0, 'subj': 0.4}, {'text': 'Queensland', 'pol': 0.0, 'subj': 0.4}, {'text': 'and', 'pol': 0.0, 'subj': 0.4}, {'text': 'South', 'pol': 0.0, 'subj': 0.4}, {'text': 'Australia', 'pol': 0.0, 'subj': 0.4}, {'text': '.', 'pol': 0.0, 'subj': 0.4}, {'text': '\n",
      "\n",
      "', 'pol': 0.0, 'subj': 0.4}, {'text': 'Could', 'pol': 0.0, 'subj': 0.0}, {'text': 'the', 'pol': 0.0, 'subj': 0.0}, {'text': 'answer', 'pol': 0.0, 'subj': 0.0}, {'text': 'lie', 'pol': 0.0, 'subj': 0.0}, {'text': 'in', 'pol': 0.0, 'subj': 0.0}, {'text': 'restricting', 'pol': 0.0, 'subj': 0.0}, {'text': 'the', 'pol': 0.0, 'subj': 0.0}, {'text': 'profit', 'pol': 0.0, 'subj': 0.0}, {'text': 'margin', 'pol': 0.0, 'subj': 0.0}, {'text': 'for', 'pol': 0.0, 'subj': 0.0}, {'text': 'ticket', 'pol': 0.0, 'subj': 0.0}, {'text': 'resales', 'pol': 0.0, 'subj': 0.0}, ...]\n",
      "1506                                                                                                                                                                                                                                                                                                                                                                                                                                                                                                                                                                                                                                                                                                                                                                                                                                                                                                                                                                                                                                                                                                                                                                                                                                                                                                                                                                                                                                                                                                                                                                                                                                                                                                                                                                                                                                                                                                                                                                                                                                                                                                                                                                                                                                                                                                                                                                      [{'text': 'At', 'pol': -0.1, 'subj': 0.1}, {'text': 'a', 'pol': -0.1, 'subj': 0.1}, {'text': 'court', 'pol': -0.1, 'subj': 0.1}, {'text': 'hearing', 'pol': -0.1, 'subj': 0.1}, {'text': 'on', 'pol': -0.1, 'subj': 0.1}, {'text': 'Monday', 'pol': -0.1, 'subj': 0.1}, {'text': 'in', 'pol': -0.1, 'subj': 0.1}, {'text': 'the', 'pol': -0.1, 'subj': 0.1}, {'text': 'city', 'pol': -0.1, 'subj': 0.1}, {'text': 'of', 'pol': -0.1, 'subj': 0.1}, {'text': 'Kiel', 'pol': -0.1, 'subj': 0.1}, {'text': ',', 'pol': -0.1, 'subj': 0.1}, {'text': 'about', 'pol': -0.1, 'subj': 0.1}, {'text': '100', 'pol': -0.1, 'subj': 0.1}, {'text': 'km', 'pol': -0.1, 'subj': 0.1}, {'text': '(', 'pol': -0.1, 'subj': 0.1}, {'text': '60', 'pol': -0.1, 'subj': 0.1}, {'text': 'miles', 'pol': -0.1, 'subj': 0.1}, {'text': ')', 'pol': -0.1, 'subj': 0.1}, {'text': 'north', 'pol': -0.1, 'subj': 0.1}, {'text': 'of', 'pol': -0.1, 'subj': 0.1}, {'text': 'Hamburg', 'pol': -0.1, 'subj': 0.1}, {'text': ',', 'pol': -0.1, 'subj': 0.1}, {'text': 'lawyers', 'pol': -0.1, 'subj': 0.1}, {'text': 'were', 'pol': -0.1, 'subj': 0.1}, {'text': 'trying', 'pol': -0.1, 'subj': 0.1}, {'text': 'to', 'pol': -0.1, 'subj': 0.1}, {'text': 'determine', 'pol': -0.1, 'subj': 0.1}, {'text': 'whether', 'pol': -0.1, 'subj': 0.1}, {'text': 'the', 'pol': -0.1, 'subj': 0.1}, {'text': 'man', 'pol': -0.1, 'subj': 0.1}, {'text': ''s', 'pol': -0.1, 'subj': 0.1}, {'text': 'military', 'pol': -0.1, 'subj': 0.1}, {'text': 'collection', 'pol': -0.1, 'subj': 0.1}, {'text': 'had', 'pol': -0.1, 'subj': 0.1}, {'text': 'violated', 'pol': -0.1, 'subj': 0.1}, {'text': 'Germany', 'pol': -0.1, 'subj': 0.1}, {'text': ''s', 'pol': -0.1, 'subj': 0.1}, {'text': 'War', 'pol': -0.1, 'subj': 0.1}, {'text': 'Weapons', 'pol': -0.1, 'subj': 0.1}, {'text': 'Control', 'pol': -0.1, 'subj': 0.1}, {'text': 'Act', 'pol': -0.1, 'subj': 0.1}, {'text': '.', 'pol': -0.1, 'subj': 0.1}, {'text': '\n",
      "\n",
      "', 'pol': -0.1, 'subj': 0.1}, {'text': 'The', 'pol': 0.0, 'subj': 0.0}, {'text': 'act', 'pol': 0.0, 'subj': 0.0}, {'text': 'regulates', 'pol': 0.0, 'subj': 0.0}, {'text': 'the', 'pol': 0.0, 'subj': 0.0}, {'text': 'manufacture', 'pol': 0.0, 'subj': 0.0}, {'text': ',', 'pol': 0.0, 'subj': 0.0}, {'text': 'sale', 'pol': 0.0, 'subj': 0.0}, {'text': ',', 'pol': 0.0, 'subj': 0.0}, {'text': 'and', 'pol': 0.0, 'subj': 0.0}, {'text': 'transport', 'pol': 0.0, 'subj': 0.0}, {'text': 'of', 'pol': 0.0, 'subj': 0.0}, {'text': 'weapons', 'pol': 0.0, 'subj': 0.0}, {'text': 'of', 'pol': 0.0, 'subj': 0.0}, {'text': 'war', 'pol': 0.0, 'subj': 0.0}, {'text': '.', 'pol': 0.0, 'subj': 0.0}, {'text': '\n",
      "\n",
      "', 'pol': 0.0, 'subj': 0.0}, {'text': 'The', 'pol': 0.5, 'subj': 0.5}, {'text': 'defence', 'pol': 0.5, 'subj': 0.5}, {'text': 'argues', 'pol': 0.5, 'subj': 0.5}, {'text': 'that', 'pol': 0.5, 'subj': 0.5}, {'text': 'many', 'pol': 0.5, 'subj': 0.5}, {'text': 'of', 'pol': 0.5, 'subj': 0.5}, {'text': 'the', 'pol': 0.5, 'subj': 0.5}, {'text': 'weapons', 'pol': 0.5, 'subj': 0.5}, {'text': 'are', 'pol': 0.5, 'subj': 0.5}, {'text': 'no', 'pol': 0.5, 'subj': 0.5}, {'text': 'longer', 'pol': 0.5, 'subj': 0.5}, {'text': 'functional', 'pol': 0.5, 'subj': 0.5}, {'text': 'and', 'pol': 0.5, 'subj': 0.5}, {'text': 'that', 'pol': 0.5, 'subj': 0.5}, {'text': 'the', 'pol': 0.5, 'subj': 0.5}, {'text': 'tank', 'pol': 0.5, 'subj': 0.5}, {'text': 'was', 'pol': 0.5, 'subj': 0.5}, {'text': 'bought', 'pol': 0.5, 'subj': 0.5}, {'text': 'as', 'pol': 0.5, 'subj': 0.5}, {'text': 'scrap', 'pol': 0.5, 'subj': 0.5}, {'text': '.', 'pol': 0.5, 'subj': 0.5}, {'text': 'They', 'pol': 0.4166666666666667, 'subj': 0.5}, {'text': 'are', 'pol': 0.4166666666666667, 'subj': 0.5}, {'text': 'considering', 'pol': 0.4166666666666667, 'subj': 0.5}, {'text': 'accepting', 'pol': 0.4166666666666667, 'subj': 0.5}, {'text': 'a', 'pol': 0.4166666666666667, 'subj': 0.5}, {'text': 'lower', 'pol': 0.4166666666666667, 'subj': 0.5}, {'text': 'fine', 'pol': 0.4166666666666667, 'subj': 0.5}, {'text': 'of', 'pol': 0.4166666666666667, 'subj': 0.5}, {'text': '€', 'pol': 0.4166666666666667, 'subj': 0.5}, {'text': '50,000', 'pol': 0.4166666666666667, 'subj': 0.5}, {'text': ',', 'pol': 0.4166666666666667, 'subj': 0.5}, {'text': 'Die', 'pol': 0.4166666666666667, 'subj': 0.5}, {'text': 'Welt', 'pol': 0.4166666666666667, 'subj': 0.5}, {'text': 'newspaper', 'pol': 0.4166666666666667, 'subj': 0.5}, {'text': 'reported', 'pol': 0.4166666666666667, 'subj': 0.5}, {'text': '.', 'pol': 0.4166666666666667, 'subj': 0.5}, {'text': '\n",
      "\n",
      "', 'pol': 0.4166666666666667, 'subj': 0.5}, {'text': 'Meanwhile', 'pol': 0.0, 'subj': 0.0}, {'text': ',', 'pol': 0.0, 'subj': 0.0}, ...]\n",
      "1507                                                                                                                                                                                                                                                                                                                                                                                                                                                                                                                                                                                                                                                                                                                                                                                                                                                                         [{'text': 'Ray', 'pol': -0.03257575757575758, 'subj': 0.471969696969697}, {'text': 'Mann', 'pol': -0.03257575757575758, 'subj': 0.471969696969697}, {'text': ',', 'pol': -0.03257575757575758, 'subj': 0.471969696969697}, {'text': 'managing', 'pol': -0.03257575757575758, 'subj': 0.471969696969697}, {'text': 'director', 'pol': -0.03257575757575758, 'subj': 0.471969696969697}, {'text': 'of', 'pol': -0.03257575757575758, 'subj': 0.471969696969697}, {'text': 'the', 'pol': -0.03257575757575758, 'subj': 0.471969696969697}, {'text': 'West', 'pol': -0.03257575757575758, 'subj': 0.471969696969697}, {'text': 'Wales', 'pol': -0.03257575757575758, 'subj': 0.471969696969697}, {'text': 'Airport', 'pol': -0.03257575757575758, 'subj': 0.471969696969697}, {'text': 'in', 'pol': -0.03257575757575758, 'subj': 0.471969696969697}, {'text': 'Aberporth', 'pol': -0.03257575757575758, 'subj': 0.471969696969697}, {'text': ',', 'pol': -0.03257575757575758, 'subj': 0.471969696969697}, {'text': 'said', 'pol': -0.03257575757575758, 'subj': 0.471969696969697}, {'text': 'the', 'pol': -0.03257575757575758, 'subj': 0.471969696969697}, {'text': 'new', 'pol': -0.03257575757575758, 'subj': 0.471969696969697}, {'text': 'airspace', 'pol': -0.03257575757575758, 'subj': 0.471969696969697}, {'text': 'would', 'pol': -0.03257575757575758, 'subj': 0.471969696969697}, {'text': 'only', 'pol': -0.03257575757575758, 'subj': 0.471969696969697}, {'text': 'be', 'pol': -0.03257575757575758, 'subj': 0.471969696969697}, {'text': 'activated', 'pol': -0.03257575757575758, 'subj': 0.471969696969697}, {'text': 'when', 'pol': -0.03257575757575758, 'subj': 0.471969696969697}, {'text': 'unmanned', 'pol': -0.03257575757575758, 'subj': 0.471969696969697}, {'text': 'flying', 'pol': -0.03257575757575758, 'subj': 0.471969696969697}, {'text': 'was', 'pol': -0.03257575757575758, 'subj': 0.471969696969697}, {'text': 'scheduled', 'pol': -0.03257575757575758, 'subj': 0.471969696969697}, {'text': ',', 'pol': -0.03257575757575758, 'subj': 0.471969696969697}, {'text': 'and', 'pol': -0.03257575757575758, 'subj': 0.471969696969697}, {'text': 'would', 'pol': -0.03257575757575758, 'subj': 0.471969696969697}, {'text': 'be', 'pol': -0.03257575757575758, 'subj': 0.471969696969697}, {'text': 'subject', 'pol': -0.03257575757575758, 'subj': 0.471969696969697}, {'text': 'to', 'pol': -0.03257575757575758, 'subj': 0.471969696969697}, {'text': '\"', 'pol': -0.03257575757575758, 'subj': 0.471969696969697}, {'text': 'stringent', 'pol': -0.03257575757575758, 'subj': 0.471969696969697}, {'text': 'safety', 'pol': -0.03257575757575758, 'subj': 0.471969696969697}, {'text': 'requirements', 'pol': -0.03257575757575758, 'subj': 0.471969696969697}, {'text': ',', 'pol': -0.03257575757575758, 'subj': 0.471969696969697}, {'text': 'regulated', 'pol': -0.03257575757575758, 'subj': 0.471969696969697}, {'text': 'by', 'pol': -0.03257575757575758, 'subj': 0.471969696969697}, {'text': 'both', 'pol': -0.03257575757575758, 'subj': 0.471969696969697}, {'text': 'the', 'pol': -0.03257575757575758, 'subj': 0.471969696969697}, {'text': 'CAA', 'pol': -0.03257575757575758, 'subj': 0.471969696969697}, {'text': 'and', 'pol': -0.03257575757575758, 'subj': 0.471969696969697}, {'text': 'the', 'pol': -0.03257575757575758, 'subj': 0.471969696969697}, {'text': 'Military', 'pol': -0.03257575757575758, 'subj': 0.471969696969697}, {'text': 'Aviation', 'pol': -0.03257575757575758, 'subj': 0.471969696969697}, {'text': 'Authority', 'pol': -0.03257575757575758, 'subj': 0.471969696969697}, {'text': '\"', 'pol': -0.03257575757575758, 'subj': 0.471969696969697}, {'text': '.', 'pol': -0.03257575757575758, 'subj': 0.471969696969697}, {'text': '\n",
      "\n",
      "', 'pol': -0.03257575757575758, 'subj': 0.471969696969697}, {'text': 'He', 'pol': 0.0, 'subj': 0.0}, {'text': 'added', 'pol': 0.0, 'subj': 0.0}, {'text': ':', 'pol': 0.0, 'subj': 0.0}, {'text': '\"', 'pol': 0.0, 'subj': 0.0}, {'text': 'The', 'pol': 0.0, 'subj': 0.0}, {'text': 'CAA', 'pol': 0.0, 'subj': 0.0}, {'text': 'announcement', 'pol': 0.0, 'subj': 0.0}, {'text': 'to', 'pol': 0.0, 'subj': 0.0}, {'text': 'allow', 'pol': 0.0, 'subj': 0.0}, {'text': 'this', 'pol': 0.0, 'subj': 0.0}, {'text': 'specialised', 'pol': 0.0, 'subj': 0.0}, {'text': 'airspace', 'pol': 0.0, 'subj': 0.0}, {'text': 'is', 'pol': 0.0, 'subj': 0.0}, {'text': 'now', 'pol': 0.0, 'subj': 0.0}, {'text': 'the', 'pol': 0.0, 'subj': 0.0}, {'text': 'strongest', 'pol': 0.0, 'subj': 0.0}, {'text': 'recognition', 'pol': 0.0, 'subj': 0.0}, {'text': 'that', 'pol': 0.0, 'subj': 0.0}, {'text': 'west', 'pol': 0.0, 'subj': 0.0}, {'text': 'Wales', 'pol': 0.0, 'subj': 0.0}, {'text': 'is', 'pol': 0.0, 'subj': 0.0}, {'text': 'the', 'pol': 0.0, 'subj': 0.0}, {'text': 'focal', 'pol': 0.0, 'subj': 0.0}, {'text': 'point', 'pol': 0.0, 'subj': 0.0}, {'text': 'for', 'pol': 0.0, 'subj': 0.0}, {'text': 'unmanned', 'pol': 0.0, 'subj': 0.0}, {'text': 'aerial', 'pol': 0.0, 'subj': 0.0}, {'text': 'systems', 'pol': 0.0, 'subj': 0.0}, {'text': 'development', 'pol': 0.0, 'subj': 0.0}, {'text': 'in', 'pol': 0.0, 'subj': 0.0}, {'text': 'the', 'pol': 0.0, 'subj': 0.0}, {'text': 'UK', 'pol': 0.0, 'subj': 0.0}, {'text': '.', 'pol': 0.0, 'subj': 0.0}, {'text': '\n",
      "\n",
      "', 'pol': 0.0, 'subj': 0.0}, {'text': '\"', 'pol': 0.29375, 'subj': 0.49375}, {'text': 'The', 'pol': 0.29375, 'subj': 0.49375}, {'text': 'airspace', 'pol': 0.29375, 'subj': 0.49375}, {'text': 'adds', 'pol': 0.29375, 'subj': 0.49375}, {'text': 'significantly', 'pol': 0.29375, 'subj': 0.49375}, {'text': 'to', 'pol': 0.29375, 'subj': 0.49375}, {'text': 'the', 'pol': 0.29375, 'subj': 0.49375}, {'text': 'many', 'pol': 0.29375, 'subj': 0.49375}, {'text': 'specialised', 'pol': 0.29375, 'subj': 0.49375}, {'text': 'assets', 'pol': 0.29375, 'subj': 0.49375}, {'text': 'that', 'pol': 0.29375, 'subj': 0.49375}, {'text': 'already', 'pol': 0.29375, 'subj': 0.49375}, {'text': 'exist', 'pol': 0.29375, 'subj': 0.49375}, {'text': 'at', 'pol': 0.29375, 'subj': 0.49375}, {'text': 'the', 'pol': 0.29375, 'subj': 0.49375}, {'text': 'airport', 'pol': 0.29375, 'subj': 0.49375}, ...]\n",
      "1508                                                                                                                                                                                                                                                                                                                                                                                                                                                                                                                                                                                                                                                                                                                                                                                                                                                                                                                                                                                                                                                                                                                                                                                                                                                                                                                                                                                                                                                                                                                                                                                                                                                                                                                                                                                                                                                                                                                                                                                                                                                                                                                                                                                                                                                                                                                                                                                                                                                           [{'text': '\"', 'pol': 0.0, 'subj': 0.25}, {'text': 'These', 'pol': 0.0, 'subj': 0.25}, {'text': 'changes', 'pol': 0.0, 'subj': 0.25}, {'text': 'will', 'pol': 0.0, 'subj': 0.25}, {'text': 'also', 'pol': 0.0, 'subj': 0.25}, {'text': 'strengthen', 'pol': 0.0, 'subj': 0.25}, {'text': 'laws', 'pol': 0.0, 'subj': 0.25}, {'text': 'governing', 'pol': 0.0, 'subj': 0.25}, {'text': 'digital', 'pol': 0.0, 'subj': 0.25}, {'text': 'payment', 'pol': 0.0, 'subj': 0.25}, {'text': 'tokens', 'pol': 0.0, 'subj': 0.25}, {'text': '(', 'pol': 0.0, 'subj': 0.25}, {'text': 'DPTs', 'pol': 0.0, 'subj': 0.25}, {'text': ')', 'pol': 0.0, 'subj': 0.25}, {'text': 'to', 'pol': 0.0, 'subj': 0.25}, {'text': 'ensure', 'pol': 0.0, 'subj': 0.25}, {'text': 'companies', 'pol': 0.0, 'subj': 0.25}, {'text': 'issuing', 'pol': 0.0, 'subj': 0.25}, {'text': 'such', 'pol': 0.0, 'subj': 0.25}, {'text': 'tokens', 'pol': 0.0, 'subj': 0.25}, {'text': 'protect', 'pol': 0.0, 'subj': 0.25}, {'text': 'the', 'pol': 0.0, 'subj': 0.25}, {'text': 'assets', 'pol': 0.0, 'subj': 0.25}, {'text': 'of', 'pol': 0.0, 'subj': 0.25}, {'text': 'their', 'pol': 0.0, 'subj': 0.25}, {'text': 'users', 'pol': 0.0, 'subj': 0.25}, {'text': ',', 'pol': 0.0, 'subj': 0.25}, {'text': 'said', 'pol': 0.0, 'subj': 0.25}, {'text': 'Transport', 'pol': 0.0, 'subj': 0.25}, {'text': 'Minister', 'pol': 0.0, 'subj': 0.25}, {'text': 'Ong', 'pol': 0.0, 'subj': 0.25}, {'text': 'Ye', 'pol': 0.0, 'subj': 0.25}, {'text': 'Kung', 'pol': 0.0, 'subj': 0.25}, {'text': ',', 'pol': 0.0, 'subj': 0.25}, {'text': 'who', 'pol': 0.0, 'subj': 0.25}, {'text': 'is', 'pol': 0.0, 'subj': 0.25}, {'text': 'a', 'pol': 0.0, 'subj': 0.25}, {'text': 'Monetary', 'pol': 0.0, 'subj': 0.25}, {'text': 'Authority', 'pol': 0.0, 'subj': 0.25}, {'text': 'of', 'pol': 0.0, 'subj': 0.25}, {'text': 'Singapore', 'pol': 0.0, 'subj': 0.25}, {'text': '(', 'pol': 0.0, 'subj': 0.25}, {'text': 'MAS', 'pol': 0.0, 'subj': 0.25}, {'text': ')', 'pol': 0.0, 'subj': 0.25}, {'text': 'board', 'pol': 0.0, 'subj': 0.25}, {'text': 'member', 'pol': 0.0, 'subj': 0.25}, {'text': '.', 'pol': 0.0, 'subj': 0.25}, {'text': '\n",
      "\n",
      "', 'pol': 0.0, 'subj': 0.25}, {'text': 'Parliament', 'pol': -0.05, 'subj': 0.25}, {'text': 'passed', 'pol': -0.05, 'subj': 0.25}, {'text': 'the', 'pol': -0.05, 'subj': 0.25}, {'text': 'Payment', 'pol': -0.05, 'subj': 0.25}, {'text': 'Services', 'pol': -0.05, 'subj': 0.25}, {'text': '(', 'pol': -0.05, 'subj': 0.25}, {'text': 'Amendment', 'pol': -0.05, 'subj': 0.25}, {'text': ')', 'pol': -0.05, 'subj': 0.25}, {'text': 'Bill', 'pol': -0.05, 'subj': 0.25}, {'text': 'on', 'pol': -0.05, 'subj': 0.25}, {'text': 'Monday', 'pol': -0.05, 'subj': 0.25}, {'text': 'following', 'pol': -0.05, 'subj': 0.25}, {'text': 'a', 'pol': -0.05, 'subj': 0.25}, {'text': 'roughly', 'pol': -0.05, 'subj': 0.25}, {'text': 'two', 'pol': -0.05, 'subj': 0.25}, {'text': '-', 'pol': -0.05, 'subj': 0.25}, {'text': 'hour', 'pol': -0.05, 'subj': 0.25}, {'text': 'debate', 'pol': -0.05, 'subj': 0.25}, {'text': 'that', 'pol': -0.05, 'subj': 0.25}, {'text': 'saw', 'pol': -0.05, 'subj': 0.25}, {'text': '10', 'pol': -0.05, 'subj': 0.25}, {'text': 'MPs', 'pol': -0.05, 'subj': 0.25}, {'text': 'taking', 'pol': -0.05, 'subj': 0.25}, {'text': 'part', 'pol': -0.05, 'subj': 0.25}, {'text': '.', 'pol': -0.05, 'subj': 0.25}, {'text': '\n",
      "\n",
      "', 'pol': -0.05, 'subj': 0.25}, {'text': 'Under', 'pol': 0.0, 'subj': 0.0}, {'text': 'the', 'pol': 0.0, 'subj': 0.0}, {'text': 'changes', 'pol': 0.0, 'subj': 0.0}, {'text': ',', 'pol': 0.0, 'subj': 0.0}, {'text': 'Singapore', 'pol': 0.0, 'subj': 0.0}, {'text': 'will', 'pol': 0.0, 'subj': 0.0}, {'text': 'implement', 'pol': 0.0, 'subj': 0.0}, {'text': 'enhanced', 'pol': 0.0, 'subj': 0.0}, {'text': 'standards', 'pol': 0.0, 'subj': 0.0}, {'text': 'for', 'pol': 0.0, 'subj': 0.0}, {'text': 'virtual', 'pol': 0.0, 'subj': 0.0}, {'text': 'asset', 'pol': 0.0, 'subj': 0.0}, {'text': 'service', 'pol': 0.0, 'subj': 0.0}, {'text': 'providers', 'pol': 0.0, 'subj': 0.0}, {'text': 'which', 'pol': 0.0, 'subj': 0.0}, {'text': 'deal', 'pol': 0.0, 'subj': 0.0}, {'text': 'in', 'pol': 0.0, 'subj': 0.0}, {'text': 'DPTs', 'pol': 0.0, 'subj': 0.0}, {'text': ',', 'pol': 0.0, 'subj': 0.0}, {'text': 'otherwise', 'pol': 0.0, 'subj': 0.0}, {'text': 'known', 'pol': 0.0, 'subj': 0.0}, {'text': 'as', 'pol': 0.0, 'subj': 0.0}, {'text': 'cryptocurrencies', 'pol': 0.0, 'subj': 0.0}, {'text': '.', 'pol': 0.0, 'subj': 0.0}, {'text': '\n",
      "\n",
      "', 'pol': 0.0, 'subj': 0.0}, {'text': 'Cryptocurrencies', 'pol': 0.125, 'subj': 0.16666666666666666}, ...]\n",
      "Name: sentiment, Length: 1509, dtype: object\n"
     ]
    }
   ],
   "source": [
    "print(news_df['sentiment'].shape)\n",
    "print(news_df['sentiment'])"
   ]
  },
  {
   "cell_type": "code",
   "execution_count": 12,
   "id": "lqe3dkHlTGcP",
   "metadata": {
    "id": "lqe3dkHlTGcP"
   },
   "outputs": [
    {
     "name": "stderr",
     "output_type": "stream",
     "text": [
      "[nltk_data] Downloading package vader_lexicon to\n",
      "[nltk_data]     C:\\Users\\Namyra\\AppData\\Roaming\\nltk_data...\n",
      "[nltk_data]   Package vader_lexicon is already up-to-date!\n"
     ]
    },
    {
     "name": "stdout",
     "output_type": "stream",
     "text": [
      "                                                                                                                                                                                                                                                                                                                                                                                                                                                                                                                                                                                                                                                                                                                 doc  \\\n",
      "0                                           (Starbucks, violated, federal, labor, law, when, it, increased, wages, and, offered, new, perks, and, benefits, only, to, non, -, union, employees, ,, a, National, Labor, Relations, Board, judge, found, Thursday, ., \\n\\n, The, decision, is, the, latest, in, a, series, of, NLRB, rulings, finding, that, Starbucks, has, violated, labor, law, in, its, efforts, to, stop, unions, from, forming, in, its, coffee, shops, ., \\n\\n, “, The, issue, at, the, heart, of, this, case, is, whether, ,, under, current, Board, law, ,, [, Starbucks, ], was, entitled, to, explicitly, reward, employees, ,, ”, for, not, participating, in, union, activity, ,, “, ...)   \n",
      "1                                                      (The, first, suspect, to, plead, guilty, in, Singapore, 's, largest, money, laundering, case, was, convicted, and, sentenced, to, 13, months, ', jail, in, a, district, court, on, Tuesday, (, Apr, 2, ), ., \\n\\n, Su, Wenqiang, ,, 32, ,, admitted, to, 11, charges, of, money, laundering, ,, possessing, proceeds, from, illegal, remote, gambling, offences, and, lying, to, get, work, passes, for, himself, and, his, wife, ., \\n\\n, More, than, S$3, billion, (, US$, 2.2, billion, ), in, assets, have, been, seized, or, frozen, in, relation, to, the, case, ., This, likely, makes, it, one, of, the, largest, money, laundering, operations, ...)   \n",
      "2          (Meta, has, been, fined, a, record, -, breaking, €, 1.2, billion, (, $, 1.3, billion, ), by, European, Union, regulators, for, violating, EU, privacy, laws, by, transferring, the, personal, data, of, Facebook, users, to, servers, in, the, United, States, ., \\n\\n, The, European, Data, Protection, Board, announced, the, fine, in, a, statement, Monday, ,, saying, it, followed, an, inquiry, into, Facebook, (, FB, ), by, the, Irish, Data, Protection, Commission, ,, the, chief, regulator, overseeing, Meta, ’s, operations, in, Europe, ., \\n\\n, The, move, highlights, ongoing, uncertainty, about, how, global, businesses, may, legally, transfer, EU, users, ’, data, to, servers, ...)   \n",
      "3                                                                                          (SINGAPORE, :, A, 45, -, year, -, old, man, linked, to, Singapore, ’s, largest, money, laundering, case, was, sentenced, to, 15, months, ', jail, on, Tuesday, (, Apr, 30, ), ., \\n\\n, Zhang, Ruijin, was, also, ordered, to, forfeit, around, S$118, million, of, his, assets, to, the, state, ., This, amounts, to, about, 90, per, cent, of, the, S$131, million, worth, of, assets, originally, seized, by, the, police, ., \\n\\n, He, is, the, fifth, of, 10, accused, persons, to, be, dealt, with, in, relation, to, the, case, ., \\n\\n, Zhang, pleaded, guilty, on, Tuesday, to, two, counts, of, forgery, -, ...)   \n",
      "4  (The, Department, of, Education, imposed, a, record, $, 14, million, fine, on, Liberty, University, ,, a, Christian, college, located, in, Virginia, ,, over, violations, of, a, campus, safety, law, ,, officials, said, Tuesday, ., \\n\\n, The, Department, of, Education, said, it, was, the, largest, fine, ever, imposed, for, violating, the, Clery, Act, ,, which, requires, colleges, to, maintain, and, disclose, campus, crime, statistics, and, security, information, ., \\n\\n, Liberty, University, also, agreed, to, spend, an, additional, $, 2, million, to, improve, on, -, campus, safety, over, the, next, two, years, ., \\n\\n, The, Department, of, Education, initiated, the, review, in, ...)   \n",
      "\n",
      "                                                                                                                                                                                                                                                                                                                                                                                                                                                                                                                                                                                                                                                                                                                                                                                                                                                                                                                                                                                                                                                                                                                                                                                                                                                                                                                                                                                                                                                                                                                                                                                                                                                                                                                                                              entity_sentiments_with_context  \n",
      "0                                                                                                                                                                                                                                                                                                                                                                                                                                                                                                                                                                                                                                                                                                                                                                                                                                                                                                                                                                                                                                               [{'entity': 'Starbucks', 'textblob_pol': 0.005194805194805177, 'vader_compound': 0.4019}, {'entity': 'National Labor Relations Board', 'textblob_pol': 0.06818181818181818, 'vader_compound': 0.0772}, {'entity': 'Thursday', 'textblob_pol': 0.06818181818181818, 'vader_compound': 0.0772}, {'entity': 'NLRB', 'textblob_pol': 0.5, 'vader_compound': -0.6808}, {'entity': 'Starbucks', 'textblob_pol': 0.005194805194805177, 'vader_compound': 0.4019}, {'entity': 'Board', 'textblob_pol': -0.07727272727272728, 'vader_compound': 0.8074}, {'entity': 'Starbucks', 'textblob_pol': 0.005194805194805177, 'vader_compound': 0.4019}, {'entity': 'Mara-Louise Anzalone', 'textblob_pol': -0.15000000000000005, 'vader_compound': 0.7906}]  \n",
      "1                                                                                                                                                                                                                                                                                                                                                                                                                                                                                                                                                                                     [{'entity': 'first', 'textblob_pol': -0.11666666666666665, 'vader_compound': -0.6249}, {'entity': 'Singapore', 'textblob_pol': -0.11666666666666665, 'vader_compound': -0.6249}, {'entity': '13 months'', 'textblob_pol': -0.11666666666666665, 'vader_compound': -0.6249}, {'entity': 'Tuesday', 'textblob_pol': -0.11666666666666665, 'vader_compound': -0.6249}, {'entity': '2', 'textblob_pol': -0.075, 'vader_compound': -0.926}, {'entity': 'Su Wenqiang', 'textblob_pol': -0.3, 'vader_compound': -0.8779}, {'entity': '32', 'textblob_pol': -0.3, 'vader_compound': -0.8779}, {'entity': '11', 'textblob_pol': -0.3, 'vader_compound': -0.8779}, {'entity': 'More than S$3 billion', 'textblob_pol': 0.5, 'vader_compound': 0.1779}, {'entity': 'US$2.2 billion', 'textblob_pol': 0.5, 'vader_compound': 0.1779}, {'entity': 'Su', 'textblob_pol': -0.19999999999999998, 'vader_compound': -0.9393}, {'entity': '10', 'textblob_pol': 0.0, 'vader_compound': -0.6705}, {'entity': 'last August', 'textblob_pol': 0.0, 'vader_compound': -0.6705}, {'entity': 'Cambodian', 'textblob_pol': 0.7, 'vader_compound': 0.4404}, {'entity': 'Fujian', 'textblob_pol': 0.7, 'vader_compound': 0.4404}]  \n",
      "2  [{'entity': 'Meta', 'textblob_pol': 0.08333333333333334, 'vader_compound': 0.0258}, {'entity': '€1.2 billion', 'textblob_pol': 0.0, 'vader_compound': -0.1779}, {'entity': '$1.3 billion', 'textblob_pol': 0.0, 'vader_compound': -0.1779}, {'entity': 'European Union', 'textblob_pol': 0.0, 'vader_compound': -0.1779}, {'entity': 'EU', 'textblob_pol': 0.041666666666666664, 'vader_compound': 0.0258}, {'entity': 'the United States', 'textblob_pol': 0.012500000000000004, 'vader_compound': 0.2732}, {'entity': 'The European Data Protection Board', 'textblob_pol': 0.1388888888888889, 'vader_compound': 0.2023}, {'entity': 'Monday', 'textblob_pol': 0.1388888888888889, 'vader_compound': 0.2023}, {'entity': 'Facebook (FB', 'textblob_pol': 0.1388888888888889, 'vader_compound': 0.2023}, {'entity': 'the Irish Data Protection Commission', 'textblob_pol': 0.1388888888888889, 'vader_compound': 0.2023}, {'entity': 'Meta', 'textblob_pol': 0.08333333333333334, 'vader_compound': 0.0258}, {'entity': 'Europe', 'textblob_pol': 0.06666666666666667, 'vader_compound': 0.4404}, {'entity': 'EU', 'textblob_pol': 0.041666666666666664, 'vader_compound': 0.0258}, {'entity': 'EU', 'textblob_pol': 0.041666666666666664, 'vader_compound': 0.0258}, {'entity': 'the United States', 'textblob_pol': 0.012500000000000004, 'vader_compound': 0.2732}, {'entity': 'Europe', 'textblob_pol': 0.06666666666666667, 'vader_compound': 0.4404}, {'entity': 'the General Data Protection Regulation', 'textblob_pol': 0.02500000000000001, 'vader_compound': 0.4215}, {'entity': 'Chapter 5', 'textblob_pol': 0.0, 'vader_compound': 0.0}, {'entity': 'GDPR', 'textblob_pol': 0.0, 'vader_compound': 0.0}, {'entity': 'third', 'textblob_pol': 0.0, 'vader_compound': 0.0}]  \n",
      "3                                                                                                                                                                                                                                                                                                                                                                                                                                                                                                                                                                                                                                                                                                                                                                                                                                                                           [{'entity': 'SINGAPORE', 'textblob_pol': 0.0, 'vader_compound': 0.0}, {'entity': '45-year-old', 'textblob_pol': -0.1, 'vader_compound': -0.0258}, {'entity': 'Singapore', 'textblob_pol': -0.1, 'vader_compound': -0.0258}, {'entity': '15 months'', 'textblob_pol': -0.1, 'vader_compound': -0.0258}, {'entity': 'Tuesday', 'textblob_pol': -0.2, 'vader_compound': -0.8271}, {'entity': 'Zhang Ruijin', 'textblob_pol': 0.0, 'vader_compound': 0.1779}, {'entity': 'about 90 per cent', 'textblob_pol': 0.3375, 'vader_compound': 0.3818}, {'entity': 'fifth', 'textblob_pol': 0.0, 'vader_compound': -0.296}, {'entity': '10', 'textblob_pol': 0.0, 'vader_compound': -0.296}, {'entity': 'Tuesday', 'textblob_pol': -0.2, 'vader_compound': -0.8271}, {'entity': 'two', 'textblob_pol': -0.2333333333333333, 'vader_compound': -0.8225}, {'entity': 'one', 'textblob_pol': -0.2, 'vader_compound': -0.8271}]  \n",
      "4                                                                                                                                                                                                                                  [{'entity': 'The Department of Education', 'textblob_pol': 0.18333333333333335, 'vader_compound': -0.7003}, {'entity': 'a record $14 million', 'textblob_pol': 0.20833333333333334, 'vader_compound': 0.5106}, {'entity': 'Liberty University', 'textblob_pol': 0.1388888888888889, 'vader_compound': 0.926}, {'entity': 'Christian', 'textblob_pol': 0.20833333333333334, 'vader_compound': 0.5106}, {'entity': 'Virginia', 'textblob_pol': 0.20833333333333334, 'vader_compound': 0.5106}, {'entity': 'Tuesday', 'textblob_pol': 0.20833333333333334, 'vader_compound': 0.5106}, {'entity': 'The Department of Education', 'textblob_pol': 0.18333333333333335, 'vader_compound': -0.7003}, {'entity': 'the Clery Act', 'textblob_pol': 0.15833333333333333, 'vader_compound': -0.8442}, {'entity': 'Liberty University', 'textblob_pol': 0.1388888888888889, 'vader_compound': 0.926}, {'entity': 'an additional $2 million', 'textblob_pol': 0.0, 'vader_compound': 0.8807}, {'entity': 'the next two years', 'textblob_pol': 0.0, 'vader_compound': 0.8807}, {'entity': 'The Department of Education', 'textblob_pol': 0.18333333333333335, 'vader_compound': -0.7003}, {'entity': '2022', 'textblob_pol': -0.1, 'vader_compound': -0.6124}, {'entity': 'the Clery Act', 'textblob_pol': 0.15833333333333333, 'vader_compound': -0.8442}, {'entity': '2021', 'textblob_pol': 0.5, 'vader_compound': -0.8074}, {'entity': '12', 'textblob_pol': 0.5, 'vader_compound': -0.8074}, {'entity': '2022', 'textblob_pol': -0.1, 'vader_compound': -0.6124}]  \n"
     ]
    }
   ],
   "source": [
    "import nltk\n",
    "from vaderSentiment.vaderSentiment import SentimentIntensityAnalyzer\n",
    "from textblob import TextBlob\n",
    "\n",
    "# Download necessary resources\n",
    "nltk.download('vader_lexicon')\n",
    "\n",
    "# Initialize VADER sentiment analyzer\n",
    "analyzer = SentimentIntensityAnalyzer()\n",
    "\n",
    "def extract_entity_sentiment_with_context(doc):\n",
    "    entities_with_sentiment = []\n",
    "\n",
    "    # Loop through named entities in the document\n",
    "    for ent in doc.ents:\n",
    "        # Get surrounding sentence context for better sentiment analysis\n",
    "        surrounding_sentence = ' '.join([sent.text for sent in doc.sents if ent.text in sent.text])\n",
    "\n",
    "        # Get sentiment for the entity's surrounding context using both TextBlob and VADER\n",
    "        textblob_score = TextBlob(surrounding_sentence).sentiment.polarity\n",
    "        vader_score = analyzer.polarity_scores(surrounding_sentence)['compound']\n",
    "\n",
    "        entities_with_sentiment.append({\n",
    "            \"entity\": ent.text,\n",
    "            \"textblob_pol\": textblob_score,\n",
    "            \"vader_compound\": vader_score\n",
    "        })\n",
    "\n",
    "    return entities_with_sentiment\n",
    "\n",
    "# Apply function to each document\n",
    "news_df['entity_sentiments_with_context'] = news_df['doc'].apply(extract_entity_sentiment_with_context)\n",
    "\n",
    "# Print the first few rows of the result\n",
    "print(news_df[['doc', 'entity_sentiments_with_context']].head())\n"
   ]
  },
  {
   "cell_type": "code",
   "execution_count": null,
   "id": "6acdb110",
   "metadata": {},
   "outputs": [],
   "source": []
  }
 ],
 "metadata": {
  "colab": {
   "provenance": []
  },
  "kernelspec": {
   "display_name": "Python 3 (ipykernel)",
   "language": "python",
   "name": "python3"
  },
  "language_info": {
   "codemirror_mode": {
    "name": "ipython",
    "version": 3
   },
   "file_extension": ".py",
   "mimetype": "text/x-python",
   "name": "python",
   "nbconvert_exporter": "python",
   "pygments_lexer": "ipython3",
   "version": "3.11.3"
  }
 },
 "nbformat": 4,
 "nbformat_minor": 5
}
